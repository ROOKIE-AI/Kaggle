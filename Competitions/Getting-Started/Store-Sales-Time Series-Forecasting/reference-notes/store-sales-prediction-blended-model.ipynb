{
 "cells": [
  {
   "cell_type": "markdown",
   "metadata": {},
   "source": [
    "# Loading the Data\n",
    "Our objective is to forecast 16 days sales of 54 stores in Ecuador based on data from the period of January 01, 2013, to August 15, 2017."
   ]
  },
  {
   "cell_type": "code",
   "execution_count": 3,
   "metadata": {},
   "outputs": [
    {
     "name": "stdout",
     "output_type": "stream",
     "text": [
      "0.31.0\n"
     ]
    }
   ],
   "source": [
    "import pandas as pd\n",
    "import numpy as np\n",
    "import darts\n",
    "import warnings\n",
    "warnings.filterwarnings('ignore')\n",
    "print(darts.__version__)"
   ]
  },
  {
   "cell_type": "code",
   "execution_count": 4,
   "metadata": {},
   "outputs": [
    {
     "data": {
      "text/html": [
       "<div>\n",
       "<style scoped>\n",
       "    .dataframe tbody tr th:only-of-type {\n",
       "        vertical-align: middle;\n",
       "    }\n",
       "\n",
       "    .dataframe tbody tr th {\n",
       "        vertical-align: top;\n",
       "    }\n",
       "\n",
       "    .dataframe thead th {\n",
       "        text-align: right;\n",
       "    }\n",
       "</style>\n",
       "<table border=\"1\" class=\"dataframe\">\n",
       "  <thead>\n",
       "    <tr style=\"text-align: right;\">\n",
       "      <th></th>\n",
       "      <th>id</th>\n",
       "      <th>date</th>\n",
       "      <th>store_nbr</th>\n",
       "      <th>family</th>\n",
       "      <th>sales</th>\n",
       "      <th>onpromotion</th>\n",
       "    </tr>\n",
       "  </thead>\n",
       "  <tbody>\n",
       "    <tr>\n",
       "      <th>0</th>\n",
       "      <td>0</td>\n",
       "      <td>2013-01-01</td>\n",
       "      <td>1</td>\n",
       "      <td>AUTOMOTIVE</td>\n",
       "      <td>0.0</td>\n",
       "      <td>0</td>\n",
       "    </tr>\n",
       "    <tr>\n",
       "      <th>1</th>\n",
       "      <td>1</td>\n",
       "      <td>2013-01-01</td>\n",
       "      <td>1</td>\n",
       "      <td>BABY CARE</td>\n",
       "      <td>0.0</td>\n",
       "      <td>0</td>\n",
       "    </tr>\n",
       "    <tr>\n",
       "      <th>2</th>\n",
       "      <td>2</td>\n",
       "      <td>2013-01-01</td>\n",
       "      <td>1</td>\n",
       "      <td>BEAUTY</td>\n",
       "      <td>0.0</td>\n",
       "      <td>0</td>\n",
       "    </tr>\n",
       "    <tr>\n",
       "      <th>3</th>\n",
       "      <td>3</td>\n",
       "      <td>2013-01-01</td>\n",
       "      <td>1</td>\n",
       "      <td>BEVERAGES</td>\n",
       "      <td>0.0</td>\n",
       "      <td>0</td>\n",
       "    </tr>\n",
       "    <tr>\n",
       "      <th>4</th>\n",
       "      <td>4</td>\n",
       "      <td>2013-01-01</td>\n",
       "      <td>1</td>\n",
       "      <td>BOOKS</td>\n",
       "      <td>0.0</td>\n",
       "      <td>0</td>\n",
       "    </tr>\n",
       "  </tbody>\n",
       "</table>\n",
       "</div>"
      ],
      "text/plain": [
       "   id        date  store_nbr      family  sales  onpromotion\n",
       "0   0  2013-01-01          1  AUTOMOTIVE    0.0            0\n",
       "1   1  2013-01-01          1   BABY CARE    0.0            0\n",
       "2   2  2013-01-01          1      BEAUTY    0.0            0\n",
       "3   3  2013-01-01          1   BEVERAGES    0.0            0\n",
       "4   4  2013-01-01          1       BOOKS    0.0            0"
      ]
     },
     "metadata": {},
     "output_type": "display_data"
    }
   ],
   "source": [
    "df_train = pd.read_csv('../data/train.csv')\n",
    "display(df_train.head())"
   ]
  },
  {
   "cell_type": "markdown",
   "metadata": {},
   "source": [
    "Please note that we do not have sales data for December 25 of each year. We will need to fill in the missing data:"
   ]
  },
  {
   "cell_type": "code",
   "execution_count": 5,
   "metadata": {},
   "outputs": [
    {
     "data": {
      "text/html": [
       "<div>\n",
       "<style scoped>\n",
       "    .dataframe tbody tr th:only-of-type {\n",
       "        vertical-align: middle;\n",
       "    }\n",
       "\n",
       "    .dataframe tbody tr th {\n",
       "        vertical-align: top;\n",
       "    }\n",
       "\n",
       "    .dataframe thead th {\n",
       "        text-align: right;\n",
       "    }\n",
       "</style>\n",
       "<table border=\"1\" class=\"dataframe\">\n",
       "  <thead>\n",
       "    <tr style=\"text-align: right;\">\n",
       "      <th></th>\n",
       "      <th>id</th>\n",
       "      <th>date</th>\n",
       "      <th>store_nbr</th>\n",
       "      <th>family</th>\n",
       "      <th>sales</th>\n",
       "      <th>onpromotion</th>\n",
       "    </tr>\n",
       "  </thead>\n",
       "  <tbody>\n",
       "  </tbody>\n",
       "</table>\n",
       "</div>"
      ],
      "text/plain": [
       "Empty DataFrame\n",
       "Columns: [id, date, store_nbr, family, sales, onpromotion]\n",
       "Index: []"
      ]
     },
     "execution_count": 5,
     "metadata": {},
     "output_type": "execute_result"
    }
   ],
   "source": [
    "df_train.iloc[np.where(df_train['date'].str.contains('12-25'))]"
   ]
  },
  {
   "cell_type": "markdown",
   "metadata": {},
   "source": [
    "###  holidays_events"
   ]
  },
  {
   "cell_type": "code",
   "execution_count": 6,
   "metadata": {},
   "outputs": [
    {
     "data": {
      "text/html": [
       "<div>\n",
       "<style scoped>\n",
       "    .dataframe tbody tr th:only-of-type {\n",
       "        vertical-align: middle;\n",
       "    }\n",
       "\n",
       "    .dataframe tbody tr th {\n",
       "        vertical-align: top;\n",
       "    }\n",
       "\n",
       "    .dataframe thead th {\n",
       "        text-align: right;\n",
       "    }\n",
       "</style>\n",
       "<table border=\"1\" class=\"dataframe\">\n",
       "  <thead>\n",
       "    <tr style=\"text-align: right;\">\n",
       "      <th></th>\n",
       "      <th>date</th>\n",
       "      <th>type</th>\n",
       "      <th>locale</th>\n",
       "      <th>locale_name</th>\n",
       "      <th>description</th>\n",
       "      <th>transferred</th>\n",
       "    </tr>\n",
       "  </thead>\n",
       "  <tbody>\n",
       "    <tr>\n",
       "      <th>0</th>\n",
       "      <td>2012-03-02</td>\n",
       "      <td>Holiday</td>\n",
       "      <td>Local</td>\n",
       "      <td>Manta</td>\n",
       "      <td>Fundacion de Manta</td>\n",
       "      <td>False</td>\n",
       "    </tr>\n",
       "    <tr>\n",
       "      <th>1</th>\n",
       "      <td>2012-04-01</td>\n",
       "      <td>Holiday</td>\n",
       "      <td>Regional</td>\n",
       "      <td>Cotopaxi</td>\n",
       "      <td>Provincializacion de Cotopaxi</td>\n",
       "      <td>False</td>\n",
       "    </tr>\n",
       "    <tr>\n",
       "      <th>2</th>\n",
       "      <td>2012-04-12</td>\n",
       "      <td>Holiday</td>\n",
       "      <td>Local</td>\n",
       "      <td>Cuenca</td>\n",
       "      <td>Fundacion de Cuenca</td>\n",
       "      <td>False</td>\n",
       "    </tr>\n",
       "    <tr>\n",
       "      <th>3</th>\n",
       "      <td>2012-04-14</td>\n",
       "      <td>Holiday</td>\n",
       "      <td>Local</td>\n",
       "      <td>Libertad</td>\n",
       "      <td>Cantonizacion de Libertad</td>\n",
       "      <td>False</td>\n",
       "    </tr>\n",
       "    <tr>\n",
       "      <th>4</th>\n",
       "      <td>2012-04-21</td>\n",
       "      <td>Holiday</td>\n",
       "      <td>Local</td>\n",
       "      <td>Riobamba</td>\n",
       "      <td>Cantonizacion de Riobamba</td>\n",
       "      <td>False</td>\n",
       "    </tr>\n",
       "  </tbody>\n",
       "</table>\n",
       "</div>"
      ],
      "text/plain": [
       "         date     type    locale locale_name                    description  \\\n",
       "0  2012-03-02  Holiday     Local       Manta             Fundacion de Manta   \n",
       "1  2012-04-01  Holiday  Regional    Cotopaxi  Provincializacion de Cotopaxi   \n",
       "2  2012-04-12  Holiday     Local      Cuenca            Fundacion de Cuenca   \n",
       "3  2012-04-14  Holiday     Local    Libertad      Cantonizacion de Libertad   \n",
       "4  2012-04-21  Holiday     Local    Riobamba      Cantonizacion de Riobamba   \n",
       "\n",
       "   transferred  \n",
       "0        False  \n",
       "1        False  \n",
       "2        False  \n",
       "3        False  \n",
       "4        False  "
      ]
     },
     "metadata": {},
     "output_type": "display_data"
    }
   ],
   "source": [
    "df_holidays_events = pd.read_csv('../data/holidays_events.csv')\n",
    "display(df_holidays_events.head())"
   ]
  },
  {
   "cell_type": "code",
   "execution_count": 7,
   "metadata": {},
   "outputs": [
    {
     "data": {
      "text/plain": [
       "type        locale  \n",
       "Additional  Local        11\n",
       "            National     40\n",
       "Bridge      National      5\n",
       "Event       National     56\n",
       "Holiday     Local       137\n",
       "            National     60\n",
       "            Regional     24\n",
       "Transfer    Local         4\n",
       "            National      8\n",
       "Work Day    National      5\n",
       "Name: locale_name, dtype: int64"
      ]
     },
     "execution_count": 7,
     "metadata": {},
     "output_type": "execute_result"
    }
   ],
   "source": [
    "df_holidays_events.groupby(['type', 'locale'])['locale_name'].count()"
   ]
  },
  {
   "cell_type": "markdown",
   "metadata": {},
   "source": [
    "### oil"
   ]
  },
  {
   "cell_type": "code",
   "execution_count": 8,
   "metadata": {},
   "outputs": [
    {
     "data": {
      "text/html": [
       "<div>\n",
       "<style scoped>\n",
       "    .dataframe tbody tr th:only-of-type {\n",
       "        vertical-align: middle;\n",
       "    }\n",
       "\n",
       "    .dataframe tbody tr th {\n",
       "        vertical-align: top;\n",
       "    }\n",
       "\n",
       "    .dataframe thead th {\n",
       "        text-align: right;\n",
       "    }\n",
       "</style>\n",
       "<table border=\"1\" class=\"dataframe\">\n",
       "  <thead>\n",
       "    <tr style=\"text-align: right;\">\n",
       "      <th></th>\n",
       "      <th>date</th>\n",
       "      <th>dcoilwtico</th>\n",
       "    </tr>\n",
       "  </thead>\n",
       "  <tbody>\n",
       "    <tr>\n",
       "      <th>0</th>\n",
       "      <td>2013-01-01</td>\n",
       "      <td>NaN</td>\n",
       "    </tr>\n",
       "    <tr>\n",
       "      <th>1</th>\n",
       "      <td>2013-01-02</td>\n",
       "      <td>93.14</td>\n",
       "    </tr>\n",
       "    <tr>\n",
       "      <th>2</th>\n",
       "      <td>2013-01-03</td>\n",
       "      <td>92.97</td>\n",
       "    </tr>\n",
       "    <tr>\n",
       "      <th>3</th>\n",
       "      <td>2013-01-04</td>\n",
       "      <td>93.12</td>\n",
       "    </tr>\n",
       "    <tr>\n",
       "      <th>4</th>\n",
       "      <td>2013-01-07</td>\n",
       "      <td>93.20</td>\n",
       "    </tr>\n",
       "  </tbody>\n",
       "</table>\n",
       "</div>"
      ],
      "text/plain": [
       "         date  dcoilwtico\n",
       "0  2013-01-01         NaN\n",
       "1  2013-01-02       93.14\n",
       "2  2013-01-03       92.97\n",
       "3  2013-01-04       93.12\n",
       "4  2013-01-07       93.20"
      ]
     },
     "metadata": {},
     "output_type": "display_data"
    }
   ],
   "source": [
    "df_oil = pd.read_csv('../data/oil.csv')\n",
    "display(df_oil.head())"
   ]
  },
  {
   "cell_type": "markdown",
   "metadata": {},
   "source": [
    "### store"
   ]
  },
  {
   "cell_type": "code",
   "execution_count": 11,
   "metadata": {},
   "outputs": [
    {
     "data": {
      "text/html": [
       "<div>\n",
       "<style scoped>\n",
       "    .dataframe tbody tr th:only-of-type {\n",
       "        vertical-align: middle;\n",
       "    }\n",
       "\n",
       "    .dataframe tbody tr th {\n",
       "        vertical-align: top;\n",
       "    }\n",
       "\n",
       "    .dataframe thead th {\n",
       "        text-align: right;\n",
       "    }\n",
       "</style>\n",
       "<table border=\"1\" class=\"dataframe\">\n",
       "  <thead>\n",
       "    <tr style=\"text-align: right;\">\n",
       "      <th></th>\n",
       "      <th>store_nbr</th>\n",
       "      <th>city</th>\n",
       "      <th>state</th>\n",
       "      <th>type</th>\n",
       "      <th>cluster</th>\n",
       "    </tr>\n",
       "  </thead>\n",
       "  <tbody>\n",
       "    <tr>\n",
       "      <th>0</th>\n",
       "      <td>1</td>\n",
       "      <td>Quito</td>\n",
       "      <td>Pichincha</td>\n",
       "      <td>D</td>\n",
       "      <td>13</td>\n",
       "    </tr>\n",
       "    <tr>\n",
       "      <th>1</th>\n",
       "      <td>2</td>\n",
       "      <td>Quito</td>\n",
       "      <td>Pichincha</td>\n",
       "      <td>D</td>\n",
       "      <td>13</td>\n",
       "    </tr>\n",
       "    <tr>\n",
       "      <th>2</th>\n",
       "      <td>3</td>\n",
       "      <td>Quito</td>\n",
       "      <td>Pichincha</td>\n",
       "      <td>D</td>\n",
       "      <td>8</td>\n",
       "    </tr>\n",
       "    <tr>\n",
       "      <th>3</th>\n",
       "      <td>4</td>\n",
       "      <td>Quito</td>\n",
       "      <td>Pichincha</td>\n",
       "      <td>D</td>\n",
       "      <td>9</td>\n",
       "    </tr>\n",
       "    <tr>\n",
       "      <th>4</th>\n",
       "      <td>5</td>\n",
       "      <td>Santo Domingo</td>\n",
       "      <td>Santo Domingo de los Tsachilas</td>\n",
       "      <td>D</td>\n",
       "      <td>4</td>\n",
       "    </tr>\n",
       "  </tbody>\n",
       "</table>\n",
       "</div>"
      ],
      "text/plain": [
       "   store_nbr           city                           state type  cluster\n",
       "0          1          Quito                       Pichincha    D       13\n",
       "1          2          Quito                       Pichincha    D       13\n",
       "2          3          Quito                       Pichincha    D        8\n",
       "3          4          Quito                       Pichincha    D        9\n",
       "4          5  Santo Domingo  Santo Domingo de los Tsachilas    D        4"
      ]
     },
     "metadata": {},
     "output_type": "display_data"
    }
   ],
   "source": [
    "df_stores = pd.read_csv('../data/stores.csv')\n",
    "display(df_stores.head())"
   ]
  },
  {
   "cell_type": "markdown",
   "metadata": {},
   "source": [
    "### transactions"
   ]
  },
  {
   "cell_type": "code",
   "execution_count": 12,
   "metadata": {},
   "outputs": [
    {
     "data": {
      "text/html": [
       "<div>\n",
       "<style scoped>\n",
       "    .dataframe tbody tr th:only-of-type {\n",
       "        vertical-align: middle;\n",
       "    }\n",
       "\n",
       "    .dataframe tbody tr th {\n",
       "        vertical-align: top;\n",
       "    }\n",
       "\n",
       "    .dataframe thead th {\n",
       "        text-align: right;\n",
       "    }\n",
       "</style>\n",
       "<table border=\"1\" class=\"dataframe\">\n",
       "  <thead>\n",
       "    <tr style=\"text-align: right;\">\n",
       "      <th></th>\n",
       "      <th>date</th>\n",
       "      <th>store_nbr</th>\n",
       "      <th>transactions</th>\n",
       "    </tr>\n",
       "  </thead>\n",
       "  <tbody>\n",
       "    <tr>\n",
       "      <th>0</th>\n",
       "      <td>2013-01-01</td>\n",
       "      <td>25</td>\n",
       "      <td>770</td>\n",
       "    </tr>\n",
       "    <tr>\n",
       "      <th>1</th>\n",
       "      <td>2013-01-02</td>\n",
       "      <td>1</td>\n",
       "      <td>2111</td>\n",
       "    </tr>\n",
       "    <tr>\n",
       "      <th>2</th>\n",
       "      <td>2013-01-02</td>\n",
       "      <td>2</td>\n",
       "      <td>2358</td>\n",
       "    </tr>\n",
       "    <tr>\n",
       "      <th>3</th>\n",
       "      <td>2013-01-02</td>\n",
       "      <td>3</td>\n",
       "      <td>3487</td>\n",
       "    </tr>\n",
       "    <tr>\n",
       "      <th>4</th>\n",
       "      <td>2013-01-02</td>\n",
       "      <td>4</td>\n",
       "      <td>1922</td>\n",
       "    </tr>\n",
       "  </tbody>\n",
       "</table>\n",
       "</div>"
      ],
      "text/plain": [
       "         date  store_nbr  transactions\n",
       "0  2013-01-01         25           770\n",
       "1  2013-01-02          1          2111\n",
       "2  2013-01-02          2          2358\n",
       "3  2013-01-02          3          3487\n",
       "4  2013-01-02          4          1922"
      ]
     },
     "metadata": {},
     "output_type": "display_data"
    }
   ],
   "source": [
    "df_transactions = pd.read_csv('../data/transactions.csv')\n",
    "display(df_transactions.head())"
   ]
  },
  {
   "cell_type": "markdown",
   "metadata": {},
   "source": [
    "Note: a transaction is a receipt created after a customer’s purchase"
   ]
  },
  {
   "cell_type": "markdown",
   "metadata": {},
   "source": [
    "###  test and sample_submission"
   ]
  },
  {
   "cell_type": "code",
   "execution_count": 13,
   "metadata": {},
   "outputs": [
    {
     "data": {
      "text/html": [
       "<div>\n",
       "<style scoped>\n",
       "    .dataframe tbody tr th:only-of-type {\n",
       "        vertical-align: middle;\n",
       "    }\n",
       "\n",
       "    .dataframe tbody tr th {\n",
       "        vertical-align: top;\n",
       "    }\n",
       "\n",
       "    .dataframe thead th {\n",
       "        text-align: right;\n",
       "    }\n",
       "</style>\n",
       "<table border=\"1\" class=\"dataframe\">\n",
       "  <thead>\n",
       "    <tr style=\"text-align: right;\">\n",
       "      <th></th>\n",
       "      <th>id</th>\n",
       "      <th>date</th>\n",
       "      <th>store_nbr</th>\n",
       "      <th>family</th>\n",
       "      <th>onpromotion</th>\n",
       "    </tr>\n",
       "  </thead>\n",
       "  <tbody>\n",
       "    <tr>\n",
       "      <th>0</th>\n",
       "      <td>3000888</td>\n",
       "      <td>2017-08-16</td>\n",
       "      <td>1</td>\n",
       "      <td>AUTOMOTIVE</td>\n",
       "      <td>0</td>\n",
       "    </tr>\n",
       "    <tr>\n",
       "      <th>1</th>\n",
       "      <td>3000889</td>\n",
       "      <td>2017-08-16</td>\n",
       "      <td>1</td>\n",
       "      <td>BABY CARE</td>\n",
       "      <td>0</td>\n",
       "    </tr>\n",
       "    <tr>\n",
       "      <th>2</th>\n",
       "      <td>3000890</td>\n",
       "      <td>2017-08-16</td>\n",
       "      <td>1</td>\n",
       "      <td>BEAUTY</td>\n",
       "      <td>2</td>\n",
       "    </tr>\n",
       "    <tr>\n",
       "      <th>3</th>\n",
       "      <td>3000891</td>\n",
       "      <td>2017-08-16</td>\n",
       "      <td>1</td>\n",
       "      <td>BEVERAGES</td>\n",
       "      <td>20</td>\n",
       "    </tr>\n",
       "    <tr>\n",
       "      <th>4</th>\n",
       "      <td>3000892</td>\n",
       "      <td>2017-08-16</td>\n",
       "      <td>1</td>\n",
       "      <td>BOOKS</td>\n",
       "      <td>0</td>\n",
       "    </tr>\n",
       "  </tbody>\n",
       "</table>\n",
       "</div>"
      ],
      "text/plain": [
       "        id        date  store_nbr      family  onpromotion\n",
       "0  3000888  2017-08-16          1  AUTOMOTIVE            0\n",
       "1  3000889  2017-08-16          1   BABY CARE            0\n",
       "2  3000890  2017-08-16          1      BEAUTY            2\n",
       "3  3000891  2017-08-16          1   BEVERAGES           20\n",
       "4  3000892  2017-08-16          1       BOOKS            0"
      ]
     },
     "metadata": {},
     "output_type": "display_data"
    },
    {
     "data": {
      "text/html": [
       "<div>\n",
       "<style scoped>\n",
       "    .dataframe tbody tr th:only-of-type {\n",
       "        vertical-align: middle;\n",
       "    }\n",
       "\n",
       "    .dataframe tbody tr th {\n",
       "        vertical-align: top;\n",
       "    }\n",
       "\n",
       "    .dataframe thead th {\n",
       "        text-align: right;\n",
       "    }\n",
       "</style>\n",
       "<table border=\"1\" class=\"dataframe\">\n",
       "  <thead>\n",
       "    <tr style=\"text-align: right;\">\n",
       "      <th></th>\n",
       "      <th>id</th>\n",
       "      <th>sales</th>\n",
       "    </tr>\n",
       "  </thead>\n",
       "  <tbody>\n",
       "    <tr>\n",
       "      <th>0</th>\n",
       "      <td>3000888</td>\n",
       "      <td>0.0</td>\n",
       "    </tr>\n",
       "    <tr>\n",
       "      <th>1</th>\n",
       "      <td>3000889</td>\n",
       "      <td>0.0</td>\n",
       "    </tr>\n",
       "    <tr>\n",
       "      <th>2</th>\n",
       "      <td>3000890</td>\n",
       "      <td>0.0</td>\n",
       "    </tr>\n",
       "    <tr>\n",
       "      <th>3</th>\n",
       "      <td>3000891</td>\n",
       "      <td>0.0</td>\n",
       "    </tr>\n",
       "    <tr>\n",
       "      <th>4</th>\n",
       "      <td>3000892</td>\n",
       "      <td>0.0</td>\n",
       "    </tr>\n",
       "  </tbody>\n",
       "</table>\n",
       "</div>"
      ],
      "text/plain": [
       "        id  sales\n",
       "0  3000888    0.0\n",
       "1  3000889    0.0\n",
       "2  3000890    0.0\n",
       "3  3000891    0.0\n",
       "4  3000892    0.0"
      ]
     },
     "metadata": {},
     "output_type": "display_data"
    }
   ],
   "source": [
    "df_test = pd.read_csv('../data/test.csv')\n",
    "df_sample_submission = pd.read_csv('../data/sample_submission.csv')\n",
    "display(df_test.head())\n",
    "display(df_sample_submission.head())"
   ]
  },
  {
   "cell_type": "markdown",
   "metadata": {},
   "source": [
    "# Preprocessing"
   ]
  },
  {
   "cell_type": "code",
   "execution_count": 14,
   "metadata": {},
   "outputs": [
    {
     "data": {
      "text/plain": [
       "array(['AUTOMOTIVE', 'BABY CARE', 'BEAUTY', 'BEVERAGES', 'BOOKS',\n",
       "       'BREAD/BAKERY', 'CELEBRATION', 'CLEANING', 'DAIRY', 'DELI', 'EGGS',\n",
       "       'FROZEN FOODS', 'GROCERY I', 'GROCERY II', 'HARDWARE',\n",
       "       'HOME AND KITCHEN I', 'HOME AND KITCHEN II', 'HOME APPLIANCES',\n",
       "       'HOME CARE', 'LADIESWEAR', 'LAWN AND GARDEN', 'LINGERIE',\n",
       "       'LIQUOR,WINE,BEER', 'MAGAZINES', 'MEATS', 'PERSONAL CARE',\n",
       "       'PET SUPPLIES', 'PLAYERS AND ELECTRONICS', 'POULTRY',\n",
       "       'PREPARED FOODS', 'PRODUCE', 'SCHOOL AND OFFICE SUPPLIES',\n",
       "       'SEAFOOD'], dtype=object)"
      ]
     },
     "metadata": {},
     "output_type": "display_data"
    },
    {
     "data": {
      "text/plain": [
       "array([ 1,  2,  3,  4,  5,  6,  7,  8,  9, 10, 11, 12, 13, 14, 15, 16, 17,\n",
       "       18, 19, 20, 21, 22, 23, 24, 25, 26, 27, 28, 29, 30, 31, 32, 33, 34,\n",
       "       35, 36, 37, 38, 39, 40, 41, 42, 43, 44, 45, 46, 47, 48, 49, 50, 51,\n",
       "       52, 53, 54], dtype=int64)"
      ]
     },
     "metadata": {},
     "output_type": "display_data"
    }
   ],
   "source": [
    "family_list = df_train['family'].unique()\n",
    "store_list = df_stores['store_nbr'].unique()\n",
    "display(family_list)\n",
    "display(store_list)"
   ]
  },
  {
   "cell_type": "markdown",
   "metadata": {},
   "source": [
    "Let's combine the training and test datasets. So we can find covariates and extract IDs for prediction on the test set."
   ]
  },
  {
   "cell_type": "code",
   "execution_count": 15,
   "metadata": {},
   "outputs": [
    {
     "data": {
      "text/html": [
       "<div>\n",
       "<style scoped>\n",
       "    .dataframe tbody tr th:only-of-type {\n",
       "        vertical-align: middle;\n",
       "    }\n",
       "\n",
       "    .dataframe tbody tr th {\n",
       "        vertical-align: top;\n",
       "    }\n",
       "\n",
       "    .dataframe thead th {\n",
       "        text-align: right;\n",
       "    }\n",
       "</style>\n",
       "<table border=\"1\" class=\"dataframe\">\n",
       "  <thead>\n",
       "    <tr style=\"text-align: right;\">\n",
       "      <th></th>\n",
       "      <th>id</th>\n",
       "      <th>date</th>\n",
       "      <th>store_nbr</th>\n",
       "      <th>family</th>\n",
       "      <th>sales</th>\n",
       "      <th>onpromotion</th>\n",
       "      <th>city</th>\n",
       "      <th>state</th>\n",
       "      <th>type</th>\n",
       "      <th>cluster</th>\n",
       "    </tr>\n",
       "  </thead>\n",
       "  <tbody>\n",
       "    <tr>\n",
       "      <th>0</th>\n",
       "      <td>0</td>\n",
       "      <td>2013-01-01</td>\n",
       "      <td>1</td>\n",
       "      <td>AUTOMOTIVE</td>\n",
       "      <td>0.0</td>\n",
       "      <td>0</td>\n",
       "      <td>Quito</td>\n",
       "      <td>Pichincha</td>\n",
       "      <td>D</td>\n",
       "      <td>13</td>\n",
       "    </tr>\n",
       "    <tr>\n",
       "      <th>1782</th>\n",
       "      <td>1782</td>\n",
       "      <td>2013-01-02</td>\n",
       "      <td>1</td>\n",
       "      <td>AUTOMOTIVE</td>\n",
       "      <td>2.0</td>\n",
       "      <td>0</td>\n",
       "      <td>Quito</td>\n",
       "      <td>Pichincha</td>\n",
       "      <td>D</td>\n",
       "      <td>13</td>\n",
       "    </tr>\n",
       "    <tr>\n",
       "      <th>3564</th>\n",
       "      <td>3564</td>\n",
       "      <td>2013-01-03</td>\n",
       "      <td>1</td>\n",
       "      <td>AUTOMOTIVE</td>\n",
       "      <td>3.0</td>\n",
       "      <td>0</td>\n",
       "      <td>Quito</td>\n",
       "      <td>Pichincha</td>\n",
       "      <td>D</td>\n",
       "      <td>13</td>\n",
       "    </tr>\n",
       "    <tr>\n",
       "      <th>5346</th>\n",
       "      <td>5346</td>\n",
       "      <td>2013-01-04</td>\n",
       "      <td>1</td>\n",
       "      <td>AUTOMOTIVE</td>\n",
       "      <td>3.0</td>\n",
       "      <td>0</td>\n",
       "      <td>Quito</td>\n",
       "      <td>Pichincha</td>\n",
       "      <td>D</td>\n",
       "      <td>13</td>\n",
       "    </tr>\n",
       "    <tr>\n",
       "      <th>7128</th>\n",
       "      <td>7128</td>\n",
       "      <td>2013-01-05</td>\n",
       "      <td>1</td>\n",
       "      <td>AUTOMOTIVE</td>\n",
       "      <td>5.0</td>\n",
       "      <td>0</td>\n",
       "      <td>Quito</td>\n",
       "      <td>Pichincha</td>\n",
       "      <td>D</td>\n",
       "      <td>13</td>\n",
       "    </tr>\n",
       "  </tbody>\n",
       "</table>\n",
       "</div>"
      ],
      "text/plain": [
       "        id        date store_nbr      family  sales  onpromotion   city  \\\n",
       "0        0  2013-01-01         1  AUTOMOTIVE    0.0            0  Quito   \n",
       "1782  1782  2013-01-02         1  AUTOMOTIVE    2.0            0  Quito   \n",
       "3564  3564  2013-01-03         1  AUTOMOTIVE    3.0            0  Quito   \n",
       "5346  5346  2013-01-04         1  AUTOMOTIVE    3.0            0  Quito   \n",
       "7128  7128  2013-01-05         1  AUTOMOTIVE    5.0            0  Quito   \n",
       "\n",
       "          state type cluster  \n",
       "0     Pichincha    D      13  \n",
       "1782  Pichincha    D      13  \n",
       "3564  Pichincha    D      13  \n",
       "5346  Pichincha    D      13  \n",
       "7128  Pichincha    D      13  "
      ]
     },
     "metadata": {},
     "output_type": "display_data"
    }
   ],
   "source": [
    "train_merged = pd.merge(df_train, df_stores, on ='store_nbr')\n",
    "train_merged = train_merged.sort_values([\"store_nbr\",\"family\",\"date\"])\n",
    "train_merged = train_merged.astype({\"store_nbr\":'str', \"family\":'str', \"city\":'str',\n",
    "                          \"state\":'str', \"type\":'str', \"cluster\":'str'})\n",
    "\n",
    "display(train_merged.head())"
   ]
  },
  {
   "cell_type": "markdown",
   "metadata": {},
   "source": [
    "## TimeSeries"
   ]
  },
  {
   "cell_type": "code",
   "execution_count": 16,
   "metadata": {},
   "outputs": [],
   "source": [
    "from darts import TimeSeries\n",
    "from tqdm import tqdm"
   ]
  },
  {
   "cell_type": "code",
   "execution_count": 17,
   "metadata": {},
   "outputs": [
    {
     "name": "stderr",
     "output_type": "stream",
     "text": [
      " ... (more hidden) ...\n"
     ]
    }
   ],
   "source": [
    "family_TS_dict = {}\n",
    "\n",
    "for family in tqdm(family_list):\n",
    "    df_family = train_merged.loc[train_merged['family'] == family]\n",
    "\n",
    "    list_of_TS_family = TimeSeries.from_group_dataframe(\n",
    "                                df_family,\n",
    "                                time_col=\"date\",\n",
    "                                group_cols=[\"store_nbr\",\"family\"], # columns for grouping time series\n",
    "                                static_cols=[\"city\",\"state\",\"type\",\"cluster\"], # static covariates\n",
    "                                value_cols=\"sales\", # target\n",
    "                                fill_missing_dates=True, # filling missing dates, remember Dec 25th\n",
    "                                freq='D' # days\n",
    "                                )\n",
    "    for ts in list_of_TS_family:\n",
    "            ts = ts.astype(np.float32)\n",
    "\n",
    "    list_of_TS_family = sorted(list_of_TS_family, key=lambda ts: int(ts.static_covariates_values()[0,0]))\n",
    "    family_TS_dict[family] = list_of_TS_family"
   ]
  },
  {
   "cell_type": "markdown",
   "metadata": {},
   "source": [
    "Let's talk more about TimeSeries. This is the main object of the Darts library. Understanding its specifics will greatly simplify the comprehension of the subsequent code. We have created a dictionary with Multivariate TimeSeries\n",
    "Dictionary structure:"
   ]
  },
  {
   "cell_type": "code",
   "execution_count": 18,
   "metadata": {},
   "outputs": [
    {
     "data": {
      "text/plain": [
       "dict_keys(['AUTOMOTIVE', 'BABY CARE', 'BEAUTY', 'BEVERAGES', 'BOOKS', 'BREAD/BAKERY', 'CELEBRATION', 'CLEANING', 'DAIRY', 'DELI', 'EGGS', 'FROZEN FOODS', 'GROCERY I', 'GROCERY II', 'HARDWARE', 'HOME AND KITCHEN I', 'HOME AND KITCHEN II', 'HOME APPLIANCES', 'HOME CARE', 'LADIESWEAR', 'LAWN AND GARDEN', 'LINGERIE', 'LIQUOR,WINE,BEER', 'MAGAZINES', 'MEATS', 'PERSONAL CARE', 'PET SUPPLIES', 'PLAYERS AND ELECTRONICS', 'POULTRY', 'PREPARED FOODS', 'PRODUCE', 'SCHOOL AND OFFICE SUPPLIES', 'SEAFOOD'])"
      ]
     },
     "execution_count": 18,
     "metadata": {},
     "output_type": "execute_result"
    }
   ],
   "source": [
    "family_TS_dict.keys()"
   ]
  },
  {
   "cell_type": "markdown",
   "metadata": {},
   "source": [
    "Timeseries for family 'AUTOMOTIVE' and store_nbr 1\n",
    "date: number (range) of days in the time series\n",
    "\n",
    "component: data from the columns that we passed in the parameter 'value_cols'. In our case, the number of daily sales."
   ]
  },
  {
   "cell_type": "code",
   "execution_count": 19,
   "metadata": {},
   "outputs": [
    {
     "data": {
      "text/html": [
       "<div><svg style=\"position: absolute; width: 0; height: 0; overflow: hidden\">\n",
       "<defs>\n",
       "<symbol id=\"icon-database\" viewBox=\"0 0 32 32\">\n",
       "<path d=\"M16 0c-8.837 0-16 2.239-16 5v4c0 2.761 7.163 5 16 5s16-2.239 16-5v-4c0-2.761-7.163-5-16-5z\"></path>\n",
       "<path d=\"M16 17c-8.837 0-16-2.239-16-5v6c0 2.761 7.163 5 16 5s16-2.239 16-5v-6c0 2.761-7.163 5-16 5z\"></path>\n",
       "<path d=\"M16 26c-8.837 0-16-2.239-16-5v6c0 2.761 7.163 5 16 5s16-2.239 16-5v-6c0 2.761-7.163 5-16 5z\"></path>\n",
       "</symbol>\n",
       "<symbol id=\"icon-file-text2\" viewBox=\"0 0 32 32\">\n",
       "<path d=\"M28.681 7.159c-0.694-0.947-1.662-2.053-2.724-3.116s-2.169-2.030-3.116-2.724c-1.612-1.182-2.393-1.319-2.841-1.319h-15.5c-1.378 0-2.5 1.121-2.5 2.5v27c0 1.378 1.122 2.5 2.5 2.5h23c1.378 0 2.5-1.122 2.5-2.5v-19.5c0-0.448-0.137-1.23-1.319-2.841zM24.543 5.457c0.959 0.959 1.712 1.825 2.268 2.543h-4.811v-4.811c0.718 0.556 1.584 1.309 2.543 2.268zM28 29.5c0 0.271-0.229 0.5-0.5 0.5h-23c-0.271 0-0.5-0.229-0.5-0.5v-27c0-0.271 0.229-0.5 0.5-0.5 0 0 15.499-0 15.5 0v7c0 0.552 0.448 1 1 1h7v19.5z\"></path>\n",
       "<path d=\"M23 26h-14c-0.552 0-1-0.448-1-1s0.448-1 1-1h14c0.552 0 1 0.448 1 1s-0.448 1-1 1z\"></path>\n",
       "<path d=\"M23 22h-14c-0.552 0-1-0.448-1-1s0.448-1 1-1h14c0.552 0 1 0.448 1 1s-0.448 1-1 1z\"></path>\n",
       "<path d=\"M23 18h-14c-0.552 0-1-0.448-1-1s0.448-1 1-1h14c0.552 0 1 0.448 1 1s-0.448 1-1 1z\"></path>\n",
       "</symbol>\n",
       "</defs>\n",
       "</svg>\n",
       "<style>/* CSS stylesheet for displaying xarray objects in jupyterlab.\n",
       " *\n",
       " */\n",
       "\n",
       ":root {\n",
       "  --xr-font-color0: var(--jp-content-font-color0, rgba(0, 0, 0, 1));\n",
       "  --xr-font-color2: var(--jp-content-font-color2, rgba(0, 0, 0, 0.54));\n",
       "  --xr-font-color3: var(--jp-content-font-color3, rgba(0, 0, 0, 0.38));\n",
       "  --xr-border-color: var(--jp-border-color2, #e0e0e0);\n",
       "  --xr-disabled-color: var(--jp-layout-color3, #bdbdbd);\n",
       "  --xr-background-color: var(--jp-layout-color0, white);\n",
       "  --xr-background-color-row-even: var(--jp-layout-color1, white);\n",
       "  --xr-background-color-row-odd: var(--jp-layout-color2, #eeeeee);\n",
       "}\n",
       "\n",
       "html[theme=dark],\n",
       "html[data-theme=dark],\n",
       "body[data-theme=dark],\n",
       "body.vscode-dark {\n",
       "  --xr-font-color0: rgba(255, 255, 255, 1);\n",
       "  --xr-font-color2: rgba(255, 255, 255, 0.54);\n",
       "  --xr-font-color3: rgba(255, 255, 255, 0.38);\n",
       "  --xr-border-color: #1F1F1F;\n",
       "  --xr-disabled-color: #515151;\n",
       "  --xr-background-color: #111111;\n",
       "  --xr-background-color-row-even: #111111;\n",
       "  --xr-background-color-row-odd: #313131;\n",
       "}\n",
       "\n",
       ".xr-wrap {\n",
       "  display: block !important;\n",
       "  min-width: 300px;\n",
       "  max-width: 700px;\n",
       "}\n",
       "\n",
       ".xr-text-repr-fallback {\n",
       "  /* fallback to plain text repr when CSS is not injected (untrusted notebook) */\n",
       "  display: none;\n",
       "}\n",
       "\n",
       ".xr-header {\n",
       "  padding-top: 6px;\n",
       "  padding-bottom: 6px;\n",
       "  margin-bottom: 4px;\n",
       "  border-bottom: solid 1px var(--xr-border-color);\n",
       "}\n",
       "\n",
       ".xr-header > div,\n",
       ".xr-header > ul {\n",
       "  display: inline;\n",
       "  margin-top: 0;\n",
       "  margin-bottom: 0;\n",
       "}\n",
       "\n",
       ".xr-obj-type,\n",
       ".xr-array-name {\n",
       "  margin-left: 2px;\n",
       "  margin-right: 10px;\n",
       "}\n",
       "\n",
       ".xr-obj-type {\n",
       "  color: var(--xr-font-color2);\n",
       "}\n",
       "\n",
       ".xr-sections {\n",
       "  padding-left: 0 !important;\n",
       "  display: grid;\n",
       "  grid-template-columns: 150px auto auto 1fr 0 20px 0 20px;\n",
       "}\n",
       "\n",
       ".xr-section-item {\n",
       "  display: contents;\n",
       "}\n",
       "\n",
       ".xr-section-item input {\n",
       "  display: inline-block;\n",
       "  opacity: 0;\n",
       "}\n",
       "\n",
       ".xr-section-item input + label {\n",
       "  color: var(--xr-disabled-color);\n",
       "}\n",
       "\n",
       ".xr-section-item input:enabled + label {\n",
       "  cursor: pointer;\n",
       "  color: var(--xr-font-color2);\n",
       "}\n",
       "\n",
       ".xr-section-item input:focus + label {\n",
       "  border: 2px solid var(--xr-font-color0);\n",
       "}\n",
       "\n",
       ".xr-section-item input:enabled + label:hover {\n",
       "  color: var(--xr-font-color0);\n",
       "}\n",
       "\n",
       ".xr-section-summary {\n",
       "  grid-column: 1;\n",
       "  color: var(--xr-font-color2);\n",
       "  font-weight: 500;\n",
       "}\n",
       "\n",
       ".xr-section-summary > span {\n",
       "  display: inline-block;\n",
       "  padding-left: 0.5em;\n",
       "}\n",
       "\n",
       ".xr-section-summary-in:disabled + label {\n",
       "  color: var(--xr-font-color2);\n",
       "}\n",
       "\n",
       ".xr-section-summary-in + label:before {\n",
       "  display: inline-block;\n",
       "  content: '►';\n",
       "  font-size: 11px;\n",
       "  width: 15px;\n",
       "  text-align: center;\n",
       "}\n",
       "\n",
       ".xr-section-summary-in:disabled + label:before {\n",
       "  color: var(--xr-disabled-color);\n",
       "}\n",
       "\n",
       ".xr-section-summary-in:checked + label:before {\n",
       "  content: '▼';\n",
       "}\n",
       "\n",
       ".xr-section-summary-in:checked + label > span {\n",
       "  display: none;\n",
       "}\n",
       "\n",
       ".xr-section-summary,\n",
       ".xr-section-inline-details {\n",
       "  padding-top: 4px;\n",
       "  padding-bottom: 4px;\n",
       "}\n",
       "\n",
       ".xr-section-inline-details {\n",
       "  grid-column: 2 / -1;\n",
       "}\n",
       "\n",
       ".xr-section-details {\n",
       "  display: none;\n",
       "  grid-column: 1 / -1;\n",
       "  margin-bottom: 5px;\n",
       "}\n",
       "\n",
       ".xr-section-summary-in:checked ~ .xr-section-details {\n",
       "  display: contents;\n",
       "}\n",
       "\n",
       ".xr-array-wrap {\n",
       "  grid-column: 1 / -1;\n",
       "  display: grid;\n",
       "  grid-template-columns: 20px auto;\n",
       "}\n",
       "\n",
       ".xr-array-wrap > label {\n",
       "  grid-column: 1;\n",
       "  vertical-align: top;\n",
       "}\n",
       "\n",
       ".xr-preview {\n",
       "  color: var(--xr-font-color3);\n",
       "}\n",
       "\n",
       ".xr-array-preview,\n",
       ".xr-array-data {\n",
       "  padding: 0 5px !important;\n",
       "  grid-column: 2;\n",
       "}\n",
       "\n",
       ".xr-array-data,\n",
       ".xr-array-in:checked ~ .xr-array-preview {\n",
       "  display: none;\n",
       "}\n",
       "\n",
       ".xr-array-in:checked ~ .xr-array-data,\n",
       ".xr-array-preview {\n",
       "  display: inline-block;\n",
       "}\n",
       "\n",
       ".xr-dim-list {\n",
       "  display: inline-block !important;\n",
       "  list-style: none;\n",
       "  padding: 0 !important;\n",
       "  margin: 0;\n",
       "}\n",
       "\n",
       ".xr-dim-list li {\n",
       "  display: inline-block;\n",
       "  padding: 0;\n",
       "  margin: 0;\n",
       "}\n",
       "\n",
       ".xr-dim-list:before {\n",
       "  content: '(';\n",
       "}\n",
       "\n",
       ".xr-dim-list:after {\n",
       "  content: ')';\n",
       "}\n",
       "\n",
       ".xr-dim-list li:not(:last-child):after {\n",
       "  content: ',';\n",
       "  padding-right: 5px;\n",
       "}\n",
       "\n",
       ".xr-has-index {\n",
       "  font-weight: bold;\n",
       "}\n",
       "\n",
       ".xr-var-list,\n",
       ".xr-var-item {\n",
       "  display: contents;\n",
       "}\n",
       "\n",
       ".xr-var-item > div,\n",
       ".xr-var-item label,\n",
       ".xr-var-item > .xr-var-name span {\n",
       "  background-color: var(--xr-background-color-row-even);\n",
       "  margin-bottom: 0;\n",
       "}\n",
       "\n",
       ".xr-var-item > .xr-var-name:hover span {\n",
       "  padding-right: 5px;\n",
       "}\n",
       "\n",
       ".xr-var-list > li:nth-child(odd) > div,\n",
       ".xr-var-list > li:nth-child(odd) > label,\n",
       ".xr-var-list > li:nth-child(odd) > .xr-var-name span {\n",
       "  background-color: var(--xr-background-color-row-odd);\n",
       "}\n",
       "\n",
       ".xr-var-name {\n",
       "  grid-column: 1;\n",
       "}\n",
       "\n",
       ".xr-var-dims {\n",
       "  grid-column: 2;\n",
       "}\n",
       "\n",
       ".xr-var-dtype {\n",
       "  grid-column: 3;\n",
       "  text-align: right;\n",
       "  color: var(--xr-font-color2);\n",
       "}\n",
       "\n",
       ".xr-var-preview {\n",
       "  grid-column: 4;\n",
       "}\n",
       "\n",
       ".xr-index-preview {\n",
       "  grid-column: 2 / 5;\n",
       "  color: var(--xr-font-color2);\n",
       "}\n",
       "\n",
       ".xr-var-name,\n",
       ".xr-var-dims,\n",
       ".xr-var-dtype,\n",
       ".xr-preview,\n",
       ".xr-attrs dt {\n",
       "  white-space: nowrap;\n",
       "  overflow: hidden;\n",
       "  text-overflow: ellipsis;\n",
       "  padding-right: 10px;\n",
       "}\n",
       "\n",
       ".xr-var-name:hover,\n",
       ".xr-var-dims:hover,\n",
       ".xr-var-dtype:hover,\n",
       ".xr-attrs dt:hover {\n",
       "  overflow: visible;\n",
       "  width: auto;\n",
       "  z-index: 1;\n",
       "}\n",
       "\n",
       ".xr-var-attrs,\n",
       ".xr-var-data,\n",
       ".xr-index-data {\n",
       "  display: none;\n",
       "  background-color: var(--xr-background-color) !important;\n",
       "  padding-bottom: 5px !important;\n",
       "}\n",
       "\n",
       ".xr-var-attrs-in:checked ~ .xr-var-attrs,\n",
       ".xr-var-data-in:checked ~ .xr-var-data,\n",
       ".xr-index-data-in:checked ~ .xr-index-data {\n",
       "  display: block;\n",
       "}\n",
       "\n",
       ".xr-var-data > table {\n",
       "  float: right;\n",
       "}\n",
       "\n",
       ".xr-var-name span,\n",
       ".xr-var-data,\n",
       ".xr-index-name div,\n",
       ".xr-index-data,\n",
       ".xr-attrs {\n",
       "  padding-left: 25px !important;\n",
       "}\n",
       "\n",
       ".xr-attrs,\n",
       ".xr-var-attrs,\n",
       ".xr-var-data,\n",
       ".xr-index-data {\n",
       "  grid-column: 1 / -1;\n",
       "}\n",
       "\n",
       "dl.xr-attrs {\n",
       "  padding: 0;\n",
       "  margin: 0;\n",
       "  display: grid;\n",
       "  grid-template-columns: 125px auto;\n",
       "}\n",
       "\n",
       ".xr-attrs dt,\n",
       ".xr-attrs dd {\n",
       "  padding: 0;\n",
       "  margin: 0;\n",
       "  float: left;\n",
       "  padding-right: 10px;\n",
       "  width: auto;\n",
       "}\n",
       "\n",
       ".xr-attrs dt {\n",
       "  font-weight: normal;\n",
       "  grid-column: 1;\n",
       "}\n",
       "\n",
       ".xr-attrs dt:hover span {\n",
       "  display: inline-block;\n",
       "  background: var(--xr-background-color);\n",
       "  padding-right: 10px;\n",
       "}\n",
       "\n",
       ".xr-attrs dd {\n",
       "  grid-column: 2;\n",
       "  white-space: pre-wrap;\n",
       "  word-break: break-all;\n",
       "}\n",
       "\n",
       ".xr-icon-database,\n",
       ".xr-icon-file-text2,\n",
       ".xr-no-icon {\n",
       "  display: inline-block;\n",
       "  vertical-align: middle;\n",
       "  width: 1em;\n",
       "  height: 1.5em !important;\n",
       "  stroke-width: 0;\n",
       "  stroke: currentColor;\n",
       "  fill: currentColor;\n",
       "}\n",
       "</style><pre class='xr-text-repr-fallback'>&lt;TimeSeries (DataArray) (date: 1688, component: 1, sample: 1)&gt; Size: 14kB\n",
       "array([[[0.]],\n",
       "\n",
       "       [[2.]],\n",
       "\n",
       "       [[3.]],\n",
       "\n",
       "       ...,\n",
       "\n",
       "       [[1.]],\n",
       "\n",
       "       [[1.]],\n",
       "\n",
       "       [[4.]]])\n",
       "Coordinates:\n",
       "  * date       (date) datetime64[ns] 14kB 2013-01-01 2013-01-02 ... 2017-08-15\n",
       "  * component  (component) object 8B &#x27;sales&#x27;\n",
       "Dimensions without coordinates: sample\n",
       "Attributes:\n",
       "    static_covariates:  static_covariates store_nbr      family   city      s...\n",
       "    hierarchy:          None</pre><div class='xr-wrap' style='display:none'><div class='xr-header'><div class='xr-obj-type'>TimeSeries (DataArray)</div><div class='xr-array-name'></div><ul class='xr-dim-list'><li><span class='xr-has-index'>date</span>: 1688</li><li><span class='xr-has-index'>component</span>: 1</li><li><span>sample</span>: 1</li></ul></div><ul class='xr-sections'><li class='xr-section-item'><div class='xr-array-wrap'><input id='section-35f595b6-6344-4222-a9d0-7d2a34339764' class='xr-array-in' type='checkbox' checked><label for='section-35f595b6-6344-4222-a9d0-7d2a34339764' title='Show/hide data repr'><svg class='icon xr-icon-database'><use xlink:href='#icon-database'></use></svg></label><div class='xr-array-preview xr-preview'><span>0.0 2.0 3.0 3.0 5.0 2.0 0.0 2.0 ... 4.0 7.0 9.0 1.0 6.0 1.0 1.0 4.0</span></div><div class='xr-array-data'><pre>array([[[0.]],\n",
       "\n",
       "       [[2.]],\n",
       "\n",
       "       [[3.]],\n",
       "\n",
       "       ...,\n",
       "\n",
       "       [[1.]],\n",
       "\n",
       "       [[1.]],\n",
       "\n",
       "       [[4.]]])</pre></div></div></li><li class='xr-section-item'><input id='section-197de19b-6649-4022-b52b-cb43d0b6f2ab' class='xr-section-summary-in' type='checkbox'  checked><label for='section-197de19b-6649-4022-b52b-cb43d0b6f2ab' class='xr-section-summary' >Coordinates: <span>(2)</span></label><div class='xr-section-inline-details'></div><div class='xr-section-details'><ul class='xr-var-list'><li class='xr-var-item'><div class='xr-var-name'><span class='xr-has-index'>date</span></div><div class='xr-var-dims'>(date)</div><div class='xr-var-dtype'>datetime64[ns]</div><div class='xr-var-preview xr-preview'>2013-01-01 ... 2017-08-15</div><input id='attrs-f7e966c6-7e1b-40e6-9785-e76ec7726783' class='xr-var-attrs-in' type='checkbox' disabled><label for='attrs-f7e966c6-7e1b-40e6-9785-e76ec7726783' title='Show/Hide attributes'><svg class='icon xr-icon-file-text2'><use xlink:href='#icon-file-text2'></use></svg></label><input id='data-d0033d2f-f340-4f35-ac68-e4db1869ff0f' class='xr-var-data-in' type='checkbox'><label for='data-d0033d2f-f340-4f35-ac68-e4db1869ff0f' title='Show/Hide data repr'><svg class='icon xr-icon-database'><use xlink:href='#icon-database'></use></svg></label><div class='xr-var-attrs'><dl class='xr-attrs'></dl></div><div class='xr-var-data'><pre>array([&#x27;2013-01-01T00:00:00.000000000&#x27;, &#x27;2013-01-02T00:00:00.000000000&#x27;,\n",
       "       &#x27;2013-01-03T00:00:00.000000000&#x27;, ..., &#x27;2017-08-13T00:00:00.000000000&#x27;,\n",
       "       &#x27;2017-08-14T00:00:00.000000000&#x27;, &#x27;2017-08-15T00:00:00.000000000&#x27;],\n",
       "      dtype=&#x27;datetime64[ns]&#x27;)</pre></div></li><li class='xr-var-item'><div class='xr-var-name'><span class='xr-has-index'>component</span></div><div class='xr-var-dims'>(component)</div><div class='xr-var-dtype'>object</div><div class='xr-var-preview xr-preview'>&#x27;sales&#x27;</div><input id='attrs-d4b73cf0-b131-4312-a1c0-676e159b984b' class='xr-var-attrs-in' type='checkbox' disabled><label for='attrs-d4b73cf0-b131-4312-a1c0-676e159b984b' title='Show/Hide attributes'><svg class='icon xr-icon-file-text2'><use xlink:href='#icon-file-text2'></use></svg></label><input id='data-b82f6630-8695-41d5-9e1c-5d614a019bc6' class='xr-var-data-in' type='checkbox'><label for='data-b82f6630-8695-41d5-9e1c-5d614a019bc6' title='Show/Hide data repr'><svg class='icon xr-icon-database'><use xlink:href='#icon-database'></use></svg></label><div class='xr-var-attrs'><dl class='xr-attrs'></dl></div><div class='xr-var-data'><pre>array([&#x27;sales&#x27;], dtype=object)</pre></div></li></ul></div></li><li class='xr-section-item'><input id='section-243e5b35-a5a6-4427-b65a-c55ef7517e83' class='xr-section-summary-in' type='checkbox'  ><label for='section-243e5b35-a5a6-4427-b65a-c55ef7517e83' class='xr-section-summary' >Indexes: <span>(2)</span></label><div class='xr-section-inline-details'></div><div class='xr-section-details'><ul class='xr-var-list'><li class='xr-var-item'><div class='xr-index-name'><div>date</div></div><div class='xr-index-preview'>PandasIndex</div><div></div><input id='index-cfb60759-9a4c-4991-89c7-a944e3572901' class='xr-index-data-in' type='checkbox'/><label for='index-cfb60759-9a4c-4991-89c7-a944e3572901' title='Show/Hide index repr'><svg class='icon xr-icon-database'><use xlink:href='#icon-database'></use></svg></label><div class='xr-index-data'><pre>PandasIndex(DatetimeIndex([&#x27;2013-01-01&#x27;, &#x27;2013-01-02&#x27;, &#x27;2013-01-03&#x27;, &#x27;2013-01-04&#x27;,\n",
       "               &#x27;2013-01-05&#x27;, &#x27;2013-01-06&#x27;, &#x27;2013-01-07&#x27;, &#x27;2013-01-08&#x27;,\n",
       "               &#x27;2013-01-09&#x27;, &#x27;2013-01-10&#x27;,\n",
       "               ...\n",
       "               &#x27;2017-08-06&#x27;, &#x27;2017-08-07&#x27;, &#x27;2017-08-08&#x27;, &#x27;2017-08-09&#x27;,\n",
       "               &#x27;2017-08-10&#x27;, &#x27;2017-08-11&#x27;, &#x27;2017-08-12&#x27;, &#x27;2017-08-13&#x27;,\n",
       "               &#x27;2017-08-14&#x27;, &#x27;2017-08-15&#x27;],\n",
       "              dtype=&#x27;datetime64[ns]&#x27;, name=&#x27;date&#x27;, length=1688, freq=&#x27;D&#x27;))</pre></div></li><li class='xr-var-item'><div class='xr-index-name'><div>component</div></div><div class='xr-index-preview'>PandasIndex</div><div></div><input id='index-2feae975-1c2f-44dc-985c-d2c4aa027c82' class='xr-index-data-in' type='checkbox'/><label for='index-2feae975-1c2f-44dc-985c-d2c4aa027c82' title='Show/Hide index repr'><svg class='icon xr-icon-database'><use xlink:href='#icon-database'></use></svg></label><div class='xr-index-data'><pre>PandasIndex(Index([&#x27;sales&#x27;], dtype=&#x27;object&#x27;, name=&#x27;component&#x27;))</pre></div></li></ul></div></li><li class='xr-section-item'><input id='section-df9b77b7-2b42-49a6-998d-6adb6f5e2b12' class='xr-section-summary-in' type='checkbox'  checked><label for='section-df9b77b7-2b42-49a6-998d-6adb6f5e2b12' class='xr-section-summary' >Attributes: <span>(2)</span></label><div class='xr-section-inline-details'></div><div class='xr-section-details'><dl class='xr-attrs'><dt><span>static_covariates :</span></dt><dd>static_covariates store_nbr      family   city      state type cluster\n",
       "component                                                             \n",
       "sales                     1  AUTOMOTIVE  Quito  Pichincha    D      13</dd><dt><span>hierarchy :</span></dt><dd>None</dd></dl></div></li></ul></div></div>"
      ],
      "text/plain": [
       "<TimeSeries (DataArray) (date: 1688, component: 1, sample: 1)> Size: 14kB\n",
       "array([[[0.]],\n",
       "\n",
       "       [[2.]],\n",
       "\n",
       "       [[3.]],\n",
       "\n",
       "       ...,\n",
       "\n",
       "       [[1.]],\n",
       "\n",
       "       [[1.]],\n",
       "\n",
       "       [[4.]]])\n",
       "Coordinates:\n",
       "  * date       (date) datetime64[ns] 14kB 2013-01-01 2013-01-02 ... 2017-08-15\n",
       "  * component  (component) object 8B 'sales'\n",
       "Dimensions without coordinates: sample\n",
       "Attributes:\n",
       "    static_covariates:  static_covariates store_nbr      family   city      s...\n",
       "    hierarchy:          None"
      ]
     },
     "execution_count": 19,
     "metadata": {},
     "output_type": "execute_result"
    }
   ],
   "source": [
    "family_TS_dict['AUTOMOTIVE'][0]"
   ]
  },
  {
   "cell_type": "markdown",
   "metadata": {},
   "source": [
    "Constant values for all observations in the group:"
   ]
  },
  {
   "cell_type": "code",
   "execution_count": 20,
   "metadata": {},
   "outputs": [
    {
     "data": {
      "text/html": [
       "<div>\n",
       "<style scoped>\n",
       "    .dataframe tbody tr th:only-of-type {\n",
       "        vertical-align: middle;\n",
       "    }\n",
       "\n",
       "    .dataframe tbody tr th {\n",
       "        vertical-align: top;\n",
       "    }\n",
       "\n",
       "    .dataframe thead th {\n",
       "        text-align: right;\n",
       "    }\n",
       "</style>\n",
       "<table border=\"1\" class=\"dataframe\">\n",
       "  <thead>\n",
       "    <tr style=\"text-align: right;\">\n",
       "      <th>static_covariates</th>\n",
       "      <th>store_nbr</th>\n",
       "      <th>family</th>\n",
       "      <th>city</th>\n",
       "      <th>state</th>\n",
       "      <th>type</th>\n",
       "      <th>cluster</th>\n",
       "    </tr>\n",
       "    <tr>\n",
       "      <th>component</th>\n",
       "      <th></th>\n",
       "      <th></th>\n",
       "      <th></th>\n",
       "      <th></th>\n",
       "      <th></th>\n",
       "      <th></th>\n",
       "    </tr>\n",
       "  </thead>\n",
       "  <tbody>\n",
       "    <tr>\n",
       "      <th>sales</th>\n",
       "      <td>1</td>\n",
       "      <td>AUTOMOTIVE</td>\n",
       "      <td>Quito</td>\n",
       "      <td>Pichincha</td>\n",
       "      <td>D</td>\n",
       "      <td>13</td>\n",
       "    </tr>\n",
       "  </tbody>\n",
       "</table>\n",
       "</div>"
      ],
      "text/plain": [
       "static_covariates store_nbr      family   city      state type cluster\n",
       "component                                                             \n",
       "sales                     1  AUTOMOTIVE  Quito  Pichincha    D      13"
      ]
     },
     "execution_count": 20,
     "metadata": {},
     "output_type": "execute_result"
    }
   ],
   "source": [
    "family_TS_dict['AUTOMOTIVE'][0].static_covariates"
   ]
  },
  {
   "cell_type": "markdown",
   "metadata": {},
   "source": [
    "We can select specific dates with slicing:"
   ]
  },
  {
   "cell_type": "code",
   "execution_count": 21,
   "metadata": {},
   "outputs": [
    {
     "data": {
      "text/html": [
       "<div><svg style=\"position: absolute; width: 0; height: 0; overflow: hidden\">\n",
       "<defs>\n",
       "<symbol id=\"icon-database\" viewBox=\"0 0 32 32\">\n",
       "<path d=\"M16 0c-8.837 0-16 2.239-16 5v4c0 2.761 7.163 5 16 5s16-2.239 16-5v-4c0-2.761-7.163-5-16-5z\"></path>\n",
       "<path d=\"M16 17c-8.837 0-16-2.239-16-5v6c0 2.761 7.163 5 16 5s16-2.239 16-5v-6c0 2.761-7.163 5-16 5z\"></path>\n",
       "<path d=\"M16 26c-8.837 0-16-2.239-16-5v6c0 2.761 7.163 5 16 5s16-2.239 16-5v-6c0 2.761-7.163 5-16 5z\"></path>\n",
       "</symbol>\n",
       "<symbol id=\"icon-file-text2\" viewBox=\"0 0 32 32\">\n",
       "<path d=\"M28.681 7.159c-0.694-0.947-1.662-2.053-2.724-3.116s-2.169-2.030-3.116-2.724c-1.612-1.182-2.393-1.319-2.841-1.319h-15.5c-1.378 0-2.5 1.121-2.5 2.5v27c0 1.378 1.122 2.5 2.5 2.5h23c1.378 0 2.5-1.122 2.5-2.5v-19.5c0-0.448-0.137-1.23-1.319-2.841zM24.543 5.457c0.959 0.959 1.712 1.825 2.268 2.543h-4.811v-4.811c0.718 0.556 1.584 1.309 2.543 2.268zM28 29.5c0 0.271-0.229 0.5-0.5 0.5h-23c-0.271 0-0.5-0.229-0.5-0.5v-27c0-0.271 0.229-0.5 0.5-0.5 0 0 15.499-0 15.5 0v7c0 0.552 0.448 1 1 1h7v19.5z\"></path>\n",
       "<path d=\"M23 26h-14c-0.552 0-1-0.448-1-1s0.448-1 1-1h14c0.552 0 1 0.448 1 1s-0.448 1-1 1z\"></path>\n",
       "<path d=\"M23 22h-14c-0.552 0-1-0.448-1-1s0.448-1 1-1h14c0.552 0 1 0.448 1 1s-0.448 1-1 1z\"></path>\n",
       "<path d=\"M23 18h-14c-0.552 0-1-0.448-1-1s0.448-1 1-1h14c0.552 0 1 0.448 1 1s-0.448 1-1 1z\"></path>\n",
       "</symbol>\n",
       "</defs>\n",
       "</svg>\n",
       "<style>/* CSS stylesheet for displaying xarray objects in jupyterlab.\n",
       " *\n",
       " */\n",
       "\n",
       ":root {\n",
       "  --xr-font-color0: var(--jp-content-font-color0, rgba(0, 0, 0, 1));\n",
       "  --xr-font-color2: var(--jp-content-font-color2, rgba(0, 0, 0, 0.54));\n",
       "  --xr-font-color3: var(--jp-content-font-color3, rgba(0, 0, 0, 0.38));\n",
       "  --xr-border-color: var(--jp-border-color2, #e0e0e0);\n",
       "  --xr-disabled-color: var(--jp-layout-color3, #bdbdbd);\n",
       "  --xr-background-color: var(--jp-layout-color0, white);\n",
       "  --xr-background-color-row-even: var(--jp-layout-color1, white);\n",
       "  --xr-background-color-row-odd: var(--jp-layout-color2, #eeeeee);\n",
       "}\n",
       "\n",
       "html[theme=dark],\n",
       "html[data-theme=dark],\n",
       "body[data-theme=dark],\n",
       "body.vscode-dark {\n",
       "  --xr-font-color0: rgba(255, 255, 255, 1);\n",
       "  --xr-font-color2: rgba(255, 255, 255, 0.54);\n",
       "  --xr-font-color3: rgba(255, 255, 255, 0.38);\n",
       "  --xr-border-color: #1F1F1F;\n",
       "  --xr-disabled-color: #515151;\n",
       "  --xr-background-color: #111111;\n",
       "  --xr-background-color-row-even: #111111;\n",
       "  --xr-background-color-row-odd: #313131;\n",
       "}\n",
       "\n",
       ".xr-wrap {\n",
       "  display: block !important;\n",
       "  min-width: 300px;\n",
       "  max-width: 700px;\n",
       "}\n",
       "\n",
       ".xr-text-repr-fallback {\n",
       "  /* fallback to plain text repr when CSS is not injected (untrusted notebook) */\n",
       "  display: none;\n",
       "}\n",
       "\n",
       ".xr-header {\n",
       "  padding-top: 6px;\n",
       "  padding-bottom: 6px;\n",
       "  margin-bottom: 4px;\n",
       "  border-bottom: solid 1px var(--xr-border-color);\n",
       "}\n",
       "\n",
       ".xr-header > div,\n",
       ".xr-header > ul {\n",
       "  display: inline;\n",
       "  margin-top: 0;\n",
       "  margin-bottom: 0;\n",
       "}\n",
       "\n",
       ".xr-obj-type,\n",
       ".xr-array-name {\n",
       "  margin-left: 2px;\n",
       "  margin-right: 10px;\n",
       "}\n",
       "\n",
       ".xr-obj-type {\n",
       "  color: var(--xr-font-color2);\n",
       "}\n",
       "\n",
       ".xr-sections {\n",
       "  padding-left: 0 !important;\n",
       "  display: grid;\n",
       "  grid-template-columns: 150px auto auto 1fr 0 20px 0 20px;\n",
       "}\n",
       "\n",
       ".xr-section-item {\n",
       "  display: contents;\n",
       "}\n",
       "\n",
       ".xr-section-item input {\n",
       "  display: inline-block;\n",
       "  opacity: 0;\n",
       "}\n",
       "\n",
       ".xr-section-item input + label {\n",
       "  color: var(--xr-disabled-color);\n",
       "}\n",
       "\n",
       ".xr-section-item input:enabled + label {\n",
       "  cursor: pointer;\n",
       "  color: var(--xr-font-color2);\n",
       "}\n",
       "\n",
       ".xr-section-item input:focus + label {\n",
       "  border: 2px solid var(--xr-font-color0);\n",
       "}\n",
       "\n",
       ".xr-section-item input:enabled + label:hover {\n",
       "  color: var(--xr-font-color0);\n",
       "}\n",
       "\n",
       ".xr-section-summary {\n",
       "  grid-column: 1;\n",
       "  color: var(--xr-font-color2);\n",
       "  font-weight: 500;\n",
       "}\n",
       "\n",
       ".xr-section-summary > span {\n",
       "  display: inline-block;\n",
       "  padding-left: 0.5em;\n",
       "}\n",
       "\n",
       ".xr-section-summary-in:disabled + label {\n",
       "  color: var(--xr-font-color2);\n",
       "}\n",
       "\n",
       ".xr-section-summary-in + label:before {\n",
       "  display: inline-block;\n",
       "  content: '►';\n",
       "  font-size: 11px;\n",
       "  width: 15px;\n",
       "  text-align: center;\n",
       "}\n",
       "\n",
       ".xr-section-summary-in:disabled + label:before {\n",
       "  color: var(--xr-disabled-color);\n",
       "}\n",
       "\n",
       ".xr-section-summary-in:checked + label:before {\n",
       "  content: '▼';\n",
       "}\n",
       "\n",
       ".xr-section-summary-in:checked + label > span {\n",
       "  display: none;\n",
       "}\n",
       "\n",
       ".xr-section-summary,\n",
       ".xr-section-inline-details {\n",
       "  padding-top: 4px;\n",
       "  padding-bottom: 4px;\n",
       "}\n",
       "\n",
       ".xr-section-inline-details {\n",
       "  grid-column: 2 / -1;\n",
       "}\n",
       "\n",
       ".xr-section-details {\n",
       "  display: none;\n",
       "  grid-column: 1 / -1;\n",
       "  margin-bottom: 5px;\n",
       "}\n",
       "\n",
       ".xr-section-summary-in:checked ~ .xr-section-details {\n",
       "  display: contents;\n",
       "}\n",
       "\n",
       ".xr-array-wrap {\n",
       "  grid-column: 1 / -1;\n",
       "  display: grid;\n",
       "  grid-template-columns: 20px auto;\n",
       "}\n",
       "\n",
       ".xr-array-wrap > label {\n",
       "  grid-column: 1;\n",
       "  vertical-align: top;\n",
       "}\n",
       "\n",
       ".xr-preview {\n",
       "  color: var(--xr-font-color3);\n",
       "}\n",
       "\n",
       ".xr-array-preview,\n",
       ".xr-array-data {\n",
       "  padding: 0 5px !important;\n",
       "  grid-column: 2;\n",
       "}\n",
       "\n",
       ".xr-array-data,\n",
       ".xr-array-in:checked ~ .xr-array-preview {\n",
       "  display: none;\n",
       "}\n",
       "\n",
       ".xr-array-in:checked ~ .xr-array-data,\n",
       ".xr-array-preview {\n",
       "  display: inline-block;\n",
       "}\n",
       "\n",
       ".xr-dim-list {\n",
       "  display: inline-block !important;\n",
       "  list-style: none;\n",
       "  padding: 0 !important;\n",
       "  margin: 0;\n",
       "}\n",
       "\n",
       ".xr-dim-list li {\n",
       "  display: inline-block;\n",
       "  padding: 0;\n",
       "  margin: 0;\n",
       "}\n",
       "\n",
       ".xr-dim-list:before {\n",
       "  content: '(';\n",
       "}\n",
       "\n",
       ".xr-dim-list:after {\n",
       "  content: ')';\n",
       "}\n",
       "\n",
       ".xr-dim-list li:not(:last-child):after {\n",
       "  content: ',';\n",
       "  padding-right: 5px;\n",
       "}\n",
       "\n",
       ".xr-has-index {\n",
       "  font-weight: bold;\n",
       "}\n",
       "\n",
       ".xr-var-list,\n",
       ".xr-var-item {\n",
       "  display: contents;\n",
       "}\n",
       "\n",
       ".xr-var-item > div,\n",
       ".xr-var-item label,\n",
       ".xr-var-item > .xr-var-name span {\n",
       "  background-color: var(--xr-background-color-row-even);\n",
       "  margin-bottom: 0;\n",
       "}\n",
       "\n",
       ".xr-var-item > .xr-var-name:hover span {\n",
       "  padding-right: 5px;\n",
       "}\n",
       "\n",
       ".xr-var-list > li:nth-child(odd) > div,\n",
       ".xr-var-list > li:nth-child(odd) > label,\n",
       ".xr-var-list > li:nth-child(odd) > .xr-var-name span {\n",
       "  background-color: var(--xr-background-color-row-odd);\n",
       "}\n",
       "\n",
       ".xr-var-name {\n",
       "  grid-column: 1;\n",
       "}\n",
       "\n",
       ".xr-var-dims {\n",
       "  grid-column: 2;\n",
       "}\n",
       "\n",
       ".xr-var-dtype {\n",
       "  grid-column: 3;\n",
       "  text-align: right;\n",
       "  color: var(--xr-font-color2);\n",
       "}\n",
       "\n",
       ".xr-var-preview {\n",
       "  grid-column: 4;\n",
       "}\n",
       "\n",
       ".xr-index-preview {\n",
       "  grid-column: 2 / 5;\n",
       "  color: var(--xr-font-color2);\n",
       "}\n",
       "\n",
       ".xr-var-name,\n",
       ".xr-var-dims,\n",
       ".xr-var-dtype,\n",
       ".xr-preview,\n",
       ".xr-attrs dt {\n",
       "  white-space: nowrap;\n",
       "  overflow: hidden;\n",
       "  text-overflow: ellipsis;\n",
       "  padding-right: 10px;\n",
       "}\n",
       "\n",
       ".xr-var-name:hover,\n",
       ".xr-var-dims:hover,\n",
       ".xr-var-dtype:hover,\n",
       ".xr-attrs dt:hover {\n",
       "  overflow: visible;\n",
       "  width: auto;\n",
       "  z-index: 1;\n",
       "}\n",
       "\n",
       ".xr-var-attrs,\n",
       ".xr-var-data,\n",
       ".xr-index-data {\n",
       "  display: none;\n",
       "  background-color: var(--xr-background-color) !important;\n",
       "  padding-bottom: 5px !important;\n",
       "}\n",
       "\n",
       ".xr-var-attrs-in:checked ~ .xr-var-attrs,\n",
       ".xr-var-data-in:checked ~ .xr-var-data,\n",
       ".xr-index-data-in:checked ~ .xr-index-data {\n",
       "  display: block;\n",
       "}\n",
       "\n",
       ".xr-var-data > table {\n",
       "  float: right;\n",
       "}\n",
       "\n",
       ".xr-var-name span,\n",
       ".xr-var-data,\n",
       ".xr-index-name div,\n",
       ".xr-index-data,\n",
       ".xr-attrs {\n",
       "  padding-left: 25px !important;\n",
       "}\n",
       "\n",
       ".xr-attrs,\n",
       ".xr-var-attrs,\n",
       ".xr-var-data,\n",
       ".xr-index-data {\n",
       "  grid-column: 1 / -1;\n",
       "}\n",
       "\n",
       "dl.xr-attrs {\n",
       "  padding: 0;\n",
       "  margin: 0;\n",
       "  display: grid;\n",
       "  grid-template-columns: 125px auto;\n",
       "}\n",
       "\n",
       ".xr-attrs dt,\n",
       ".xr-attrs dd {\n",
       "  padding: 0;\n",
       "  margin: 0;\n",
       "  float: left;\n",
       "  padding-right: 10px;\n",
       "  width: auto;\n",
       "}\n",
       "\n",
       ".xr-attrs dt {\n",
       "  font-weight: normal;\n",
       "  grid-column: 1;\n",
       "}\n",
       "\n",
       ".xr-attrs dt:hover span {\n",
       "  display: inline-block;\n",
       "  background: var(--xr-background-color);\n",
       "  padding-right: 10px;\n",
       "}\n",
       "\n",
       ".xr-attrs dd {\n",
       "  grid-column: 2;\n",
       "  white-space: pre-wrap;\n",
       "  word-break: break-all;\n",
       "}\n",
       "\n",
       ".xr-icon-database,\n",
       ".xr-icon-file-text2,\n",
       ".xr-no-icon {\n",
       "  display: inline-block;\n",
       "  vertical-align: middle;\n",
       "  width: 1em;\n",
       "  height: 1.5em !important;\n",
       "  stroke-width: 0;\n",
       "  stroke: currentColor;\n",
       "  fill: currentColor;\n",
       "}\n",
       "</style><pre class='xr-text-repr-fallback'>&lt;TimeSeries (DataArray) (date: 10, component: 1, sample: 1)&gt; Size: 80B\n",
       "array([[[0.]],\n",
       "\n",
       "       [[2.]],\n",
       "\n",
       "       [[3.]],\n",
       "\n",
       "       [[3.]],\n",
       "\n",
       "       [[5.]],\n",
       "\n",
       "       [[2.]],\n",
       "\n",
       "       [[0.]],\n",
       "\n",
       "       [[2.]],\n",
       "\n",
       "       [[2.]],\n",
       "\n",
       "       [[2.]]])\n",
       "Coordinates:\n",
       "  * date       (date) datetime64[ns] 80B 2013-01-01 2013-01-02 ... 2013-01-10\n",
       "  * component  (component) object 8B &#x27;sales&#x27;\n",
       "Dimensions without coordinates: sample\n",
       "Attributes:\n",
       "    static_covariates:  static_covariates store_nbr      family   city      s...\n",
       "    hierarchy:          None</pre><div class='xr-wrap' style='display:none'><div class='xr-header'><div class='xr-obj-type'>TimeSeries (DataArray)</div><div class='xr-array-name'></div><ul class='xr-dim-list'><li><span class='xr-has-index'>date</span>: 10</li><li><span class='xr-has-index'>component</span>: 1</li><li><span>sample</span>: 1</li></ul></div><ul class='xr-sections'><li class='xr-section-item'><div class='xr-array-wrap'><input id='section-48e48121-319f-4920-bd6e-760a2f5b33f0' class='xr-array-in' type='checkbox' checked><label for='section-48e48121-319f-4920-bd6e-760a2f5b33f0' title='Show/hide data repr'><svg class='icon xr-icon-database'><use xlink:href='#icon-database'></use></svg></label><div class='xr-array-preview xr-preview'><span>0.0 2.0 3.0 3.0 5.0 2.0 0.0 2.0 2.0 2.0</span></div><div class='xr-array-data'><pre>array([[[0.]],\n",
       "\n",
       "       [[2.]],\n",
       "\n",
       "       [[3.]],\n",
       "\n",
       "       [[3.]],\n",
       "\n",
       "       [[5.]],\n",
       "\n",
       "       [[2.]],\n",
       "\n",
       "       [[0.]],\n",
       "\n",
       "       [[2.]],\n",
       "\n",
       "       [[2.]],\n",
       "\n",
       "       [[2.]]])</pre></div></div></li><li class='xr-section-item'><input id='section-c6682e13-0902-43a3-9890-3a4bc621c3c6' class='xr-section-summary-in' type='checkbox'  checked><label for='section-c6682e13-0902-43a3-9890-3a4bc621c3c6' class='xr-section-summary' >Coordinates: <span>(2)</span></label><div class='xr-section-inline-details'></div><div class='xr-section-details'><ul class='xr-var-list'><li class='xr-var-item'><div class='xr-var-name'><span class='xr-has-index'>date</span></div><div class='xr-var-dims'>(date)</div><div class='xr-var-dtype'>datetime64[ns]</div><div class='xr-var-preview xr-preview'>2013-01-01 ... 2013-01-10</div><input id='attrs-a7f4452f-4b58-41e7-bf33-15ffee87d1fc' class='xr-var-attrs-in' type='checkbox' disabled><label for='attrs-a7f4452f-4b58-41e7-bf33-15ffee87d1fc' title='Show/Hide attributes'><svg class='icon xr-icon-file-text2'><use xlink:href='#icon-file-text2'></use></svg></label><input id='data-de0da137-02bc-4926-a47c-28a871669a9b' class='xr-var-data-in' type='checkbox'><label for='data-de0da137-02bc-4926-a47c-28a871669a9b' title='Show/Hide data repr'><svg class='icon xr-icon-database'><use xlink:href='#icon-database'></use></svg></label><div class='xr-var-attrs'><dl class='xr-attrs'></dl></div><div class='xr-var-data'><pre>array([&#x27;2013-01-01T00:00:00.000000000&#x27;, &#x27;2013-01-02T00:00:00.000000000&#x27;,\n",
       "       &#x27;2013-01-03T00:00:00.000000000&#x27;, &#x27;2013-01-04T00:00:00.000000000&#x27;,\n",
       "       &#x27;2013-01-05T00:00:00.000000000&#x27;, &#x27;2013-01-06T00:00:00.000000000&#x27;,\n",
       "       &#x27;2013-01-07T00:00:00.000000000&#x27;, &#x27;2013-01-08T00:00:00.000000000&#x27;,\n",
       "       &#x27;2013-01-09T00:00:00.000000000&#x27;, &#x27;2013-01-10T00:00:00.000000000&#x27;],\n",
       "      dtype=&#x27;datetime64[ns]&#x27;)</pre></div></li><li class='xr-var-item'><div class='xr-var-name'><span class='xr-has-index'>component</span></div><div class='xr-var-dims'>(component)</div><div class='xr-var-dtype'>object</div><div class='xr-var-preview xr-preview'>&#x27;sales&#x27;</div><input id='attrs-452c8d85-9e4f-473a-8f5c-87f980bd07f4' class='xr-var-attrs-in' type='checkbox' disabled><label for='attrs-452c8d85-9e4f-473a-8f5c-87f980bd07f4' title='Show/Hide attributes'><svg class='icon xr-icon-file-text2'><use xlink:href='#icon-file-text2'></use></svg></label><input id='data-11548ad4-d8a2-405e-997e-548cbbf83efa' class='xr-var-data-in' type='checkbox'><label for='data-11548ad4-d8a2-405e-997e-548cbbf83efa' title='Show/Hide data repr'><svg class='icon xr-icon-database'><use xlink:href='#icon-database'></use></svg></label><div class='xr-var-attrs'><dl class='xr-attrs'></dl></div><div class='xr-var-data'><pre>array([&#x27;sales&#x27;], dtype=object)</pre></div></li></ul></div></li><li class='xr-section-item'><input id='section-508b5afb-fbab-42ab-9ce3-b08d82b728f9' class='xr-section-summary-in' type='checkbox'  ><label for='section-508b5afb-fbab-42ab-9ce3-b08d82b728f9' class='xr-section-summary' >Indexes: <span>(2)</span></label><div class='xr-section-inline-details'></div><div class='xr-section-details'><ul class='xr-var-list'><li class='xr-var-item'><div class='xr-index-name'><div>date</div></div><div class='xr-index-preview'>PandasIndex</div><div></div><input id='index-f9911454-d0a8-4bc2-ba5d-b972aa3b8e91' class='xr-index-data-in' type='checkbox'/><label for='index-f9911454-d0a8-4bc2-ba5d-b972aa3b8e91' title='Show/Hide index repr'><svg class='icon xr-icon-database'><use xlink:href='#icon-database'></use></svg></label><div class='xr-index-data'><pre>PandasIndex(DatetimeIndex([&#x27;2013-01-01&#x27;, &#x27;2013-01-02&#x27;, &#x27;2013-01-03&#x27;, &#x27;2013-01-04&#x27;,\n",
       "               &#x27;2013-01-05&#x27;, &#x27;2013-01-06&#x27;, &#x27;2013-01-07&#x27;, &#x27;2013-01-08&#x27;,\n",
       "               &#x27;2013-01-09&#x27;, &#x27;2013-01-10&#x27;],\n",
       "              dtype=&#x27;datetime64[ns]&#x27;, name=&#x27;date&#x27;, freq=&#x27;D&#x27;))</pre></div></li><li class='xr-var-item'><div class='xr-index-name'><div>component</div></div><div class='xr-index-preview'>PandasIndex</div><div></div><input id='index-bec32cd7-4f17-4940-bc0d-a81f73553ac7' class='xr-index-data-in' type='checkbox'/><label for='index-bec32cd7-4f17-4940-bc0d-a81f73553ac7' title='Show/Hide index repr'><svg class='icon xr-icon-database'><use xlink:href='#icon-database'></use></svg></label><div class='xr-index-data'><pre>PandasIndex(Index([&#x27;sales&#x27;], dtype=&#x27;object&#x27;, name=&#x27;component&#x27;))</pre></div></li></ul></div></li><li class='xr-section-item'><input id='section-91048f76-4ebe-40fe-9242-f7be834d3ecd' class='xr-section-summary-in' type='checkbox'  checked><label for='section-91048f76-4ebe-40fe-9242-f7be834d3ecd' class='xr-section-summary' >Attributes: <span>(2)</span></label><div class='xr-section-inline-details'></div><div class='xr-section-details'><dl class='xr-attrs'><dt><span>static_covariates :</span></dt><dd>static_covariates store_nbr      family   city      state type cluster\n",
       "component                                                             \n",
       "sales                     1  AUTOMOTIVE  Quito  Pichincha    D      13</dd><dt><span>hierarchy :</span></dt><dd>None</dd></dl></div></li></ul></div></div>"
      ],
      "text/plain": [
       "<TimeSeries (DataArray) (date: 10, component: 1, sample: 1)> Size: 80B\n",
       "array([[[0.]],\n",
       "\n",
       "       [[2.]],\n",
       "\n",
       "       [[3.]],\n",
       "\n",
       "       [[3.]],\n",
       "\n",
       "       [[5.]],\n",
       "\n",
       "       [[2.]],\n",
       "\n",
       "       [[0.]],\n",
       "\n",
       "       [[2.]],\n",
       "\n",
       "       [[2.]],\n",
       "\n",
       "       [[2.]]])\n",
       "Coordinates:\n",
       "  * date       (date) datetime64[ns] 80B 2013-01-01 2013-01-02 ... 2013-01-10\n",
       "  * component  (component) object 8B 'sales'\n",
       "Dimensions without coordinates: sample\n",
       "Attributes:\n",
       "    static_covariates:  static_covariates store_nbr      family   city      s...\n",
       "    hierarchy:          None"
      ]
     },
     "execution_count": 21,
     "metadata": {},
     "output_type": "execute_result"
    }
   ],
   "source": [
    "family_TS_dict['AUTOMOTIVE'][0][:10]"
   ]
  },
  {
   "cell_type": "markdown",
   "metadata": {},
   "source": [
    "### Normalizing time series\n",
    "Let's create a pipeline to automate our actions.\n",
    "We will use the following data preprocessing:\n",
    "- Filling missing values.\n",
    "- Encoding of static covariates. In my example, this is Ordinal Encoding. You can use any other one from the sklearn. It must have methods: fit(), transform() , inverse_transform().\n",
    "- Target variable transformation. log1p significantly improves prediction accuracy.\n",
    "- Scaler. Default is Min Max Scaler."
   ]
  },
  {
   "cell_type": "code",
   "execution_count": 22,
   "metadata": {},
   "outputs": [],
   "source": [
    "from darts.dataprocessing import Pipeline\n",
    "from darts.dataprocessing.transformers import Scaler, StaticCovariatesTransformer, MissingValuesFiller, InvertibleMapper\n",
    "from sklearn.preprocessing import OrdinalEncoder"
   ]
  },
  {
   "cell_type": "code",
   "execution_count": 23,
   "metadata": {
    "_kg_hide-output": true
   },
   "outputs": [],
   "source": [
    "family_pipeline_dict = {}\n",
    "family_TS_transformed_dict = {}\n",
    "\n",
    "for key in family_TS_dict:\n",
    "    train_filler = MissingValuesFiller(verbose=False, n_jobs=-1, name=\"Fill NAs\")\n",
    "    static_cov_transformer = StaticCovariatesTransformer(verbose=False, transformer_cat = OrdinalEncoder(), name=\"Encoder\")\n",
    "    log_transformer = InvertibleMapper(np.log1p, np.expm1, verbose=False, n_jobs=-1, name=\"Log-Transform\")   \n",
    "    train_scaler = Scaler(verbose=False, n_jobs=-1, name=\"Scaling\")\n",
    "\n",
    "    train_pipeline = Pipeline([train_filler,\n",
    "                             static_cov_transformer,\n",
    "                             log_transformer,\n",
    "                             train_scaler])\n",
    "\n",
    "    training_transformed = train_pipeline.fit_transform(family_TS_dict[key])\n",
    "    family_pipeline_dict[key] = train_pipeline\n",
    "    family_TS_transformed_dict[key] = training_transformed"
   ]
  },
  {
   "cell_type": "code",
   "execution_count": null,
   "metadata": {
    "execution": {
     "iopub.execute_input": "2024-08-07T03:49:08.405889Z",
     "iopub.status.busy": "2024-08-07T03:49:08.405571Z",
     "iopub.status.idle": "2024-08-07T03:49:08.432289Z",
     "shell.execute_reply": "2024-08-07T03:49:08.431109Z",
     "shell.execute_reply.started": "2024-08-07T03:49:08.405860Z"
    }
   },
   "outputs": [],
   "source": [
    "family_TS_transformed_dict['AUTOMOTIVE'][0][:10]"
   ]
  },
  {
   "cell_type": "markdown",
   "metadata": {},
   "source": [
    "### Date"
   ]
  },
  {
   "cell_type": "code",
   "execution_count": null,
   "metadata": {
    "execution": {
     "iopub.execute_input": "2024-08-07T03:49:08.434117Z",
     "iopub.status.busy": "2024-08-07T03:49:08.433794Z",
     "iopub.status.idle": "2024-08-07T03:49:08.798814Z",
     "shell.execute_reply": "2024-08-07T03:49:08.797904Z",
     "shell.execute_reply.started": "2024-08-07T03:49:08.434089Z"
    }
   },
   "outputs": [],
   "source": [
    "from darts.utils.timeseries_generation import datetime_attribute_timeseries"
   ]
  },
  {
   "cell_type": "code",
   "execution_count": null,
   "metadata": {
    "execution": {
     "iopub.execute_input": "2024-08-07T03:49:08.800484Z",
     "iopub.status.busy": "2024-08-07T03:49:08.800160Z",
     "iopub.status.idle": "2024-08-07T03:49:08.848957Z",
     "shell.execute_reply": "2024-08-07T03:49:08.847620Z",
     "shell.execute_reply.started": "2024-08-07T03:49:08.800457Z"
    }
   },
   "outputs": [],
   "source": [
    "full_time_period = pd.date_range(start='2013-01-01', end='2017-08-31', freq='D')\n",
    "\n",
    "\n",
    "year = datetime_attribute_timeseries(time_index = full_time_period, attribute=\"year\")\n",
    "month = datetime_attribute_timeseries(time_index = full_time_period, attribute=\"month\")\n",
    "day = datetime_attribute_timeseries(time_index = full_time_period, attribute=\"day\")\n",
    "dayofyear = datetime_attribute_timeseries(time_index = full_time_period, attribute=\"dayofyear\")\n",
    "weekday = datetime_attribute_timeseries(time_index = full_time_period, attribute=\"dayofweek\")\n",
    "weekofyear = datetime_attribute_timeseries(time_index = full_time_period, attribute=\"weekofyear\")\n",
    "timesteps = TimeSeries.from_times_and_values(times=full_time_period,\n",
    "                                             values=np.arange(len(full_time_period)),\n",
    "                                             columns=[\"linear_increase\"])\n",
    "\n",
    "time_cov = year.stack(month).stack(day).stack(dayofyear).stack(weekday).stack(weekofyear).stack(timesteps)\n",
    "time_cov = time_cov.astype(np.float32)"
   ]
  },
  {
   "cell_type": "code",
   "execution_count": null,
   "metadata": {
    "execution": {
     "iopub.execute_input": "2024-08-07T03:49:08.850831Z",
     "iopub.status.busy": "2024-08-07T03:49:08.850412Z",
     "iopub.status.idle": "2024-08-07T03:49:08.870642Z",
     "shell.execute_reply": "2024-08-07T03:49:08.869518Z",
     "shell.execute_reply.started": "2024-08-07T03:49:08.850795Z"
    }
   },
   "outputs": [],
   "source": [
    "display(print(time_cov.components.values))\n",
    "display(time_cov[100])"
   ]
  },
  {
   "cell_type": "code",
   "execution_count": null,
   "metadata": {
    "execution": {
     "iopub.execute_input": "2024-08-07T03:49:08.878866Z",
     "iopub.status.busy": "2024-08-07T03:49:08.878425Z",
     "iopub.status.idle": "2024-08-07T03:49:08.910774Z",
     "shell.execute_reply": "2024-08-07T03:49:08.909771Z",
     "shell.execute_reply.started": "2024-08-07T03:49:08.878837Z"
    }
   },
   "outputs": [],
   "source": [
    "time_cov_scaler = Scaler(verbose=False, n_jobs=-1, name=\"Scaler\")\n",
    "time_cov_train, time_cov_val = time_cov.split_before(pd.Timestamp('20170816'))\n",
    "time_cov_scaler.fit(time_cov_train)\n",
    "time_cov_transformed = time_cov_scaler.transform(time_cov)"
   ]
  },
  {
   "cell_type": "markdown",
   "metadata": {},
   "source": [
    "### Oil"
   ]
  },
  {
   "cell_type": "code",
   "execution_count": null,
   "metadata": {
    "execution": {
     "iopub.execute_input": "2024-08-07T03:49:08.912517Z",
     "iopub.status.busy": "2024-08-07T03:49:08.912198Z",
     "iopub.status.idle": "2024-08-07T03:49:21.211592Z",
     "shell.execute_reply": "2024-08-07T03:49:21.210440Z",
     "shell.execute_reply.started": "2024-08-07T03:49:08.912489Z"
    }
   },
   "outputs": [],
   "source": [
    "from darts.models.filtering.moving_average_filter import MovingAverageFilter"
   ]
  },
  {
   "cell_type": "code",
   "execution_count": null,
   "metadata": {
    "execution": {
     "iopub.execute_input": "2024-08-07T03:49:21.214409Z",
     "iopub.status.busy": "2024-08-07T03:49:21.213359Z",
     "iopub.status.idle": "2024-08-07T03:49:21.282522Z",
     "shell.execute_reply": "2024-08-07T03:49:21.281696Z",
     "shell.execute_reply.started": "2024-08-07T03:49:21.214360Z"
    }
   },
   "outputs": [],
   "source": [
    "# Oil Price\n",
    "\n",
    "oil = TimeSeries.from_dataframe(df_oil, \n",
    "                                time_col = 'date', \n",
    "                                value_cols = ['dcoilwtico'],\n",
    "                                freq = 'D')\n",
    "\n",
    "oil = oil.astype(np.float32)\n",
    "\n",
    "# Transform\n",
    "oil_filler = MissingValuesFiller(verbose=False, n_jobs=-1, name=\"Filler\")\n",
    "oil_scaler = Scaler(verbose=False, n_jobs=-1, name=\"Scaler\")\n",
    "oil_pipeline = Pipeline([oil_filler, oil_scaler])\n",
    "oil_transformed = oil_pipeline.fit_transform(oil)\n",
    "\n",
    "# Moving Averages for Oil Price\n",
    "oil_moving_average_7 = MovingAverageFilter(window=7)\n",
    "oil_moving_average_28 = MovingAverageFilter(window=28)\n",
    "\n",
    "oil_moving_averages = []\n",
    "\n",
    "ma_7 = oil_moving_average_7.filter(oil_transformed).astype(np.float32)\n",
    "ma_7 = ma_7.with_columns_renamed(col_names=ma_7.components, col_names_new=\"oil_ma_7\")\n",
    "ma_28 = oil_moving_average_28.filter(oil_transformed).astype(np.float32)\n",
    "ma_28 = ma_28.with_columns_renamed(col_names=ma_28.components, col_names_new=\"oil_ma_28\")\n",
    "oil_moving_averages = ma_7.stack(ma_28)"
   ]
  },
  {
   "cell_type": "code",
   "execution_count": null,
   "metadata": {
    "execution": {
     "iopub.execute_input": "2024-08-07T03:49:21.284122Z",
     "iopub.status.busy": "2024-08-07T03:49:21.283747Z",
     "iopub.status.idle": "2024-08-07T03:49:21.300078Z",
     "shell.execute_reply": "2024-08-07T03:49:21.298893Z",
     "shell.execute_reply.started": "2024-08-07T03:49:21.284088Z"
    }
   },
   "outputs": [],
   "source": [
    "display(oil_moving_averages[100])"
   ]
  },
  {
   "cell_type": "markdown",
   "metadata": {},
   "source": [
    "### Holidays"
   ]
  },
  {
   "cell_type": "code",
   "execution_count": null,
   "metadata": {
    "execution": {
     "iopub.execute_input": "2024-08-07T03:49:21.302286Z",
     "iopub.status.busy": "2024-08-07T03:49:21.301893Z",
     "iopub.status.idle": "2024-08-07T03:49:21.312368Z",
     "shell.execute_reply": "2024-08-07T03:49:21.311319Z",
     "shell.execute_reply.started": "2024-08-07T03:49:21.302257Z"
    }
   },
   "outputs": [],
   "source": [
    "def holiday_list(df_stores):\n",
    "\n",
    "    listofseries = []\n",
    "    \n",
    "    for i in range(0,len(df_stores)):        \n",
    "            df_holiday_dummies = pd.DataFrame(columns=['date'])\n",
    "            df_holiday_dummies[\"date\"] = df_holidays_events[\"date\"]\n",
    "    \n",
    "            df_holiday_dummies[\"national_holiday\"] = np.where(((df_holidays_events[\"type\"] == \"Holiday\") & (df_holidays_events[\"locale\"] == \"National\")), 1, 0)\n",
    "\n",
    "            df_holiday_dummies[\"earthquake_relief\"] = np.where(df_holidays_events['description'].str.contains('Terremoto Manabi'), 1, 0)\n",
    "\n",
    "            df_holiday_dummies[\"christmas\"] = np.where(df_holidays_events['description'].str.contains('Navidad'), 1, 0)\n",
    "\n",
    "            df_holiday_dummies[\"football_event\"] = np.where(df_holidays_events['description'].str.contains('futbol'), 1, 0)\n",
    "\n",
    "            df_holiday_dummies[\"national_event\"] = np.where(((df_holidays_events[\"type\"] == \"Event\") & (df_holidays_events[\"locale\"] == \"National\") & (~df_holidays_events['description'].str.contains('Terremoto Manabi')) & (~df_holidays_events['description'].str.contains('futbol'))), 1, 0)\n",
    "\n",
    "            df_holiday_dummies[\"work_day\"] = np.where((df_holidays_events[\"type\"] == \"Work Day\"), 1, 0)\n",
    "\n",
    "            df_holiday_dummies[\"local_holiday\"] = np.where(((df_holidays_events[\"type\"] == \"Holiday\") & ((df_holidays_events[\"locale_name\"] == df_stores['state'][i]) | (df_holidays_events[\"locale_name\"] == df_stores['city'][i]))), 1, 0)\n",
    "                     \n",
    "            listofseries.append(df_holiday_dummies)\n",
    "\n",
    "    return listofseries"
   ]
  },
  {
   "cell_type": "code",
   "execution_count": null,
   "metadata": {
    "execution": {
     "iopub.execute_input": "2024-08-07T03:49:21.314228Z",
     "iopub.status.busy": "2024-08-07T03:49:21.313769Z",
     "iopub.status.idle": "2024-08-07T03:49:21.325949Z",
     "shell.execute_reply": "2024-08-07T03:49:21.324865Z",
     "shell.execute_reply.started": "2024-08-07T03:49:21.314196Z"
    }
   },
   "outputs": [],
   "source": [
    "def remove_0_and_duplicates(holiday_list):\n",
    "\n",
    "    listofseries = []\n",
    "    \n",
    "    for i in range(0,len(holiday_list)):         \n",
    "            df_holiday_per_store = list_of_holidays_per_store[i].set_index('date')\n",
    "\n",
    "            df_holiday_per_store = df_holiday_per_store.loc[~(df_holiday_per_store==0).all(axis=1)]\n",
    "            \n",
    "            df_holiday_per_store = df_holiday_per_store.groupby('date').agg({'national_holiday':'max', 'earthquake_relief':'max', \n",
    "                                   'christmas':'max', 'football_event':'max', \n",
    "                                   'national_event':'max', 'work_day':'max', \n",
    "                                   'local_holiday':'max'}).reset_index()\n",
    "\n",
    "            listofseries.append(df_holiday_per_store)\n",
    "\n",
    "    return listofseries"
   ]
  },
  {
   "cell_type": "code",
   "execution_count": null,
   "metadata": {
    "execution": {
     "iopub.execute_input": "2024-08-07T03:49:21.328699Z",
     "iopub.status.busy": "2024-08-07T03:49:21.327505Z",
     "iopub.status.idle": "2024-08-07T03:49:21.341745Z",
     "shell.execute_reply": "2024-08-07T03:49:21.340579Z",
     "shell.execute_reply.started": "2024-08-07T03:49:21.328633Z"
    }
   },
   "outputs": [],
   "source": [
    "def holiday_TS_list_54(holiday_list):\n",
    "    listofseries = []\n",
    "    \n",
    "    for i in range(0,54):\n",
    "            holidays_TS = TimeSeries.from_dataframe(list_of_holidays_per_store[i], \n",
    "                                        time_col = 'date',\n",
    "                                        fill_missing_dates=True,\n",
    "                                        fillna_value=0,\n",
    "                                        freq='D')\n",
    "            \n",
    "            holidays_TS = holidays_TS.slice(pd.Timestamp('20130101'),pd.Timestamp('20170831'))\n",
    "            holidays_TS = holidays_TS.astype(np.float32)\n",
    "            listofseries.append(holidays_TS)\n",
    "\n",
    "    return listofseries"
   ]
  },
  {
   "cell_type": "code",
   "execution_count": null,
   "metadata": {
    "execution": {
     "iopub.execute_input": "2024-08-07T03:49:21.343350Z",
     "iopub.status.busy": "2024-08-07T03:49:21.342942Z",
     "iopub.status.idle": "2024-08-07T03:49:22.659380Z",
     "shell.execute_reply": "2024-08-07T03:49:22.657973Z",
     "shell.execute_reply.started": "2024-08-07T03:49:21.343313Z"
    }
   },
   "outputs": [],
   "source": [
    "list_of_holidays_per_store = holiday_list(df_stores)\n",
    "list_of_holidays_per_store = remove_0_and_duplicates(list_of_holidays_per_store)   \n",
    "list_of_holidays_store = holiday_TS_list_54(list_of_holidays_per_store)\n",
    "\n",
    "holidays_filler = MissingValuesFiller(verbose=False, n_jobs=-1, name=\"Filler\")\n",
    "holidays_scaler = Scaler(verbose=False, n_jobs=-1, name=\"Scaler\")\n",
    "\n",
    "holidays_pipeline = Pipeline([holidays_filler, holidays_scaler])\n",
    "holidays_transformed = holidays_pipeline.fit_transform(list_of_holidays_store)"
   ]
  },
  {
   "cell_type": "code",
   "execution_count": null,
   "metadata": {
    "execution": {
     "iopub.execute_input": "2024-08-07T03:49:22.661355Z",
     "iopub.status.busy": "2024-08-07T03:49:22.660875Z",
     "iopub.status.idle": "2024-08-07T03:49:22.680859Z",
     "shell.execute_reply": "2024-08-07T03:49:22.679745Z",
     "shell.execute_reply.started": "2024-08-07T03:49:22.661317Z"
    }
   },
   "outputs": [],
   "source": [
    "display(len(holidays_transformed))\n",
    "display(holidays_transformed[0].components.values)\n",
    "display(holidays_transformed[0][100])"
   ]
  },
  {
   "cell_type": "markdown",
   "metadata": {},
   "source": [
    "### Promotion"
   ]
  },
  {
   "cell_type": "code",
   "execution_count": null,
   "metadata": {
    "execution": {
     "iopub.execute_input": "2024-08-07T03:49:22.682987Z",
     "iopub.status.busy": "2024-08-07T03:49:22.682278Z",
     "iopub.status.idle": "2024-08-07T03:49:22.687716Z",
     "shell.execute_reply": "2024-08-07T03:49:22.686648Z",
     "shell.execute_reply.started": "2024-08-07T03:49:22.682950Z"
    }
   },
   "outputs": [],
   "source": [
    "from tqdm import tqdm"
   ]
  },
  {
   "cell_type": "code",
   "execution_count": null,
   "metadata": {
    "execution": {
     "iopub.execute_input": "2024-08-07T03:49:22.689364Z",
     "iopub.status.busy": "2024-08-07T03:49:22.689028Z",
     "iopub.status.idle": "2024-08-07T03:49:56.580824Z",
     "shell.execute_reply": "2024-08-07T03:49:56.579852Z",
     "shell.execute_reply.started": "2024-08-07T03:49:22.689338Z"
    }
   },
   "outputs": [],
   "source": [
    "df_promotion = pd.concat([df_train, df_test], axis=0)\n",
    "df_promotion = df_promotion.sort_values([\"store_nbr\",\"family\",\"date\"])\n",
    "df_promotion.tail()\n",
    "\n",
    "family_promotion_dict = {}\n",
    "\n",
    "for family in tqdm(family_list):\n",
    "    df_family = df_promotion.loc[df_promotion['family'] == family]\n",
    "\n",
    "    list_of_TS_promo = TimeSeries.from_group_dataframe(\n",
    "                                df_family,\n",
    "                                time_col=\"date\",\n",
    "                                group_cols=[\"store_nbr\",\"family\"],\n",
    "                                value_cols=\"onpromotion\",\n",
    "                                fill_missing_dates=True,\n",
    "                                freq='D')\n",
    "\n",
    "    for ts in list_of_TS_promo:\n",
    "        ts = ts.astype(np.float32)\n",
    "\n",
    "    family_promotion_dict[family] = list_of_TS_promo"
   ]
  },
  {
   "cell_type": "code",
   "execution_count": null,
   "metadata": {
    "execution": {
     "iopub.execute_input": "2024-08-07T03:49:56.582311Z",
     "iopub.status.busy": "2024-08-07T03:49:56.582003Z",
     "iopub.status.idle": "2024-08-07T03:49:56.602057Z",
     "shell.execute_reply": "2024-08-07T03:49:56.600956Z",
     "shell.execute_reply.started": "2024-08-07T03:49:56.582284Z"
    }
   },
   "outputs": [],
   "source": [
    "display(family_promotion_dict['AUTOMOTIVE'][0])"
   ]
  },
  {
   "cell_type": "code",
   "execution_count": null,
   "metadata": {
    "execution": {
     "iopub.execute_input": "2024-08-07T03:49:56.603950Z",
     "iopub.status.busy": "2024-08-07T03:49:56.603579Z",
     "iopub.status.idle": "2024-08-07T03:50:47.997340Z",
     "shell.execute_reply": "2024-08-07T03:50:47.996374Z",
     "shell.execute_reply.started": "2024-08-07T03:49:56.603921Z"
    }
   },
   "outputs": [],
   "source": [
    "promotion_transformed_dict = {}\n",
    "\n",
    "for key in tqdm(family_promotion_dict):\n",
    "    promo_filler = MissingValuesFiller(verbose=False, n_jobs=-1, name=\"Fill NAs\")\n",
    "    promo_scaler = Scaler(verbose=False, n_jobs=-1, name=\"Scaling\")\n",
    "\n",
    "    promo_pipeline = Pipeline([promo_filler,\n",
    "                             promo_scaler])\n",
    "\n",
    "    promotion_transformed = promo_pipeline.fit_transform(family_promotion_dict[key])\n",
    "\n",
    "    # Moving Averages for Promotion Family Dictionaries\n",
    "    promo_moving_average_7 = MovingAverageFilter(window=7)\n",
    "    promo_moving_average_28 = MovingAverageFilter(window=28)\n",
    "\n",
    "    promotion_covs = []\n",
    "\n",
    "    for ts in promotion_transformed:\n",
    "        ma_7 = promo_moving_average_7.filter(ts)\n",
    "        ma_7 = TimeSeries.from_series(ma_7.pd_series())  \n",
    "        ma_7 = ma_7.astype(np.float32)\n",
    "        ma_7 = ma_7.with_columns_renamed(col_names=ma_7.components, col_names_new=\"promotion_ma_7\")\n",
    "        ma_28 = promo_moving_average_28.filter(ts)\n",
    "        ma_28 = TimeSeries.from_series(ma_28.pd_series())  \n",
    "        ma_28 = ma_28.astype(np.float32)\n",
    "        ma_28 = ma_28.with_columns_renamed(col_names=ma_28.components, col_names_new=\"promotion_ma_28\")\n",
    "        promo_and_mas = ts.stack(ma_7).stack(ma_28)\n",
    "        promotion_covs.append(promo_and_mas)\n",
    "\n",
    "    promotion_transformed_dict[key] = promotion_covs"
   ]
  },
  {
   "cell_type": "code",
   "execution_count": null,
   "metadata": {
    "execution": {
     "iopub.execute_input": "2024-08-07T03:50:47.998945Z",
     "iopub.status.busy": "2024-08-07T03:50:47.998623Z",
     "iopub.status.idle": "2024-08-07T03:50:48.021734Z",
     "shell.execute_reply": "2024-08-07T03:50:48.020726Z",
     "shell.execute_reply.started": "2024-08-07T03:50:47.998918Z"
    }
   },
   "outputs": [],
   "source": [
    "display(promotion_transformed_dict['AUTOMOTIVE'][0].components.values)\n",
    "display(promotion_transformed_dict['AUTOMOTIVE'][0][1])"
   ]
  },
  {
   "cell_type": "markdown",
   "metadata": {},
   "source": [
    "### Grouping the covariates"
   ]
  },
  {
   "cell_type": "code",
   "execution_count": null,
   "metadata": {
    "execution": {
     "iopub.execute_input": "2024-08-07T03:50:48.023400Z",
     "iopub.status.busy": "2024-08-07T03:50:48.023081Z",
     "iopub.status.idle": "2024-08-07T03:50:48.033033Z",
     "shell.execute_reply": "2024-08-07T03:50:48.031902Z",
     "shell.execute_reply.started": "2024-08-07T03:50:48.023372Z"
    }
   },
   "outputs": [],
   "source": [
    "general_covariates = time_cov_transformed.stack(oil_transformed).stack(oil_moving_averages)"
   ]
  },
  {
   "cell_type": "code",
   "execution_count": null,
   "metadata": {
    "execution": {
     "iopub.execute_input": "2024-08-07T03:50:48.034659Z",
     "iopub.status.busy": "2024-08-07T03:50:48.034318Z",
     "iopub.status.idle": "2024-08-07T03:50:48.143717Z",
     "shell.execute_reply": "2024-08-07T03:50:48.142654Z",
     "shell.execute_reply.started": "2024-08-07T03:50:48.034624Z"
    }
   },
   "outputs": [],
   "source": [
    "store_covariates_future = []\n",
    "\n",
    "for store in range(0,len(store_list)):\n",
    "    stacked_covariates = holidays_transformed[store].stack(general_covariates)  \n",
    "    store_covariates_future.append(stacked_covariates)"
   ]
  },
  {
   "cell_type": "code",
   "execution_count": null,
   "metadata": {
    "execution": {
     "iopub.execute_input": "2024-08-07T03:50:48.145408Z",
     "iopub.status.busy": "2024-08-07T03:50:48.145020Z",
     "iopub.status.idle": "2024-08-07T03:50:52.419858Z",
     "shell.execute_reply": "2024-08-07T03:50:52.418878Z",
     "shell.execute_reply.started": "2024-08-07T03:50:48.145374Z"
    }
   },
   "outputs": [],
   "source": [
    "future_covariates_dict = {}\n",
    "\n",
    "for key in tqdm(promotion_transformed_dict):\n",
    "    promotion_family = promotion_transformed_dict[key]\n",
    "    covariates_future = [promotion_family[i].stack(store_covariates_future[i]) for i in range(0,len(promotion_family))]\n",
    "    future_covariates_dict[key] = covariates_future"
   ]
  },
  {
   "cell_type": "code",
   "execution_count": null,
   "metadata": {
    "execution": {
     "iopub.execute_input": "2024-08-07T03:50:52.421487Z",
     "iopub.status.busy": "2024-08-07T03:50:52.421148Z",
     "iopub.status.idle": "2024-08-07T03:50:52.428546Z",
     "shell.execute_reply": "2024-08-07T03:50:52.427455Z",
     "shell.execute_reply.started": "2024-08-07T03:50:52.421447Z"
    }
   },
   "outputs": [],
   "source": [
    "display(future_covariates_dict['AUTOMOTIVE'][0].components)"
   ]
  },
  {
   "cell_type": "markdown",
   "metadata": {},
   "source": [
    "### Transactions – Past Covariates"
   ]
  },
  {
   "cell_type": "code",
   "execution_count": null,
   "metadata": {
    "execution": {
     "iopub.execute_input": "2024-08-07T03:50:52.430050Z",
     "iopub.status.busy": "2024-08-07T03:50:52.429765Z",
     "iopub.status.idle": "2024-08-07T03:50:53.722112Z",
     "shell.execute_reply": "2024-08-07T03:50:53.721122Z",
     "shell.execute_reply.started": "2024-08-07T03:50:52.430025Z"
    }
   },
   "outputs": [],
   "source": [
    "df_transactions.sort_values([\"store_nbr\",\"date\"], inplace=True)\n",
    "\n",
    "TS_transactions_list = TimeSeries.from_group_dataframe(\n",
    "                                df_transactions,\n",
    "                                time_col=\"date\",\n",
    "                                group_cols=[\"store_nbr\"],\n",
    "                                value_cols=\"transactions\",\n",
    "                                fill_missing_dates=True,\n",
    "                                freq='D')\n",
    "\n",
    "transactions_list = []\n",
    "\n",
    "for ts in TS_transactions_list:\n",
    "            series = TimeSeries.from_series(ts.pd_series())\n",
    "            series = series.astype(np.float32)\n",
    "            transactions_list.append(series)\n",
    "\n",
    "transactions_list[24] = transactions_list[24].slice(start_ts=pd.Timestamp('20130102'), end_ts=pd.Timestamp('20170815'))\n",
    "\n",
    "from datetime import datetime, timedelta\n",
    "\n",
    "transactions_list_full = []\n",
    "\n",
    "for ts in transactions_list:\n",
    "    if ts.start_time() > pd.Timestamp('20130101'):\n",
    "        end_time = (ts.start_time() - timedelta(days=1))\n",
    "        delta = end_time - pd.Timestamp('20130101')\n",
    "        zero_series = TimeSeries.from_times_and_values(\n",
    "                                  times=pd.date_range(start=pd.Timestamp('20130101'), \n",
    "                                  end=end_time, freq=\"D\"),\n",
    "                                  values=np.zeros(delta.days+1))\n",
    "        ts = zero_series.append(ts)\n",
    "        ts = ts.with_columns_renamed(col_names=ts.components, col_names_new=\"transactions\")\n",
    "        transactions_list_full.append(ts)\n",
    "\n",
    "transactions_filler = MissingValuesFiller(verbose=False, n_jobs=-1, name=\"Filler\")\n",
    "transactions_scaler = Scaler(verbose=False, n_jobs=-1, name=\"Scaler\")\n",
    "\n",
    "transactions_pipeline = Pipeline([transactions_filler, transactions_scaler])\n",
    "transactions_transformed = transactions_pipeline.fit_transform(transactions_list_full)"
   ]
  },
  {
   "cell_type": "code",
   "execution_count": null,
   "metadata": {
    "execution": {
     "iopub.execute_input": "2024-08-07T03:50:53.723737Z",
     "iopub.status.busy": "2024-08-07T03:50:53.723348Z",
     "iopub.status.idle": "2024-08-07T03:50:53.739203Z",
     "shell.execute_reply": "2024-08-07T03:50:53.737867Z",
     "shell.execute_reply.started": "2024-08-07T03:50:53.723708Z"
    }
   },
   "outputs": [],
   "source": [
    "display(transactions_transformed[0])"
   ]
  },
  {
   "cell_type": "markdown",
   "metadata": {},
   "source": [
    "### Create dataframe with id and reduce memory usage"
   ]
  },
  {
   "cell_type": "code",
   "execution_count": null,
   "metadata": {
    "execution": {
     "iopub.execute_input": "2024-08-07T03:50:53.741050Z",
     "iopub.status.busy": "2024-08-07T03:50:53.740639Z",
     "iopub.status.idle": "2024-08-07T03:50:55.359586Z",
     "shell.execute_reply": "2024-08-07T03:50:55.358570Z",
     "shell.execute_reply.started": "2024-08-07T03:50:53.741011Z"
    }
   },
   "outputs": [],
   "source": [
    "df_indexes = pd.concat([df_train, df_test])\n",
    "df_indexes = df_indexes.drop(['onpromotion'], axis=1)\n",
    "df_indexes = df_indexes.sort_values(by=['store_nbr','family',])\n",
    "df_indexes.date = pd.to_datetime(df_indexes.date)\n",
    "df_indexes.shape"
   ]
  },
  {
   "cell_type": "code",
   "execution_count": null,
   "metadata": {
    "execution": {
     "iopub.execute_input": "2024-08-07T03:50:55.361392Z",
     "iopub.status.busy": "2024-08-07T03:50:55.360970Z",
     "iopub.status.idle": "2024-08-07T03:50:55.456223Z",
     "shell.execute_reply": "2024-08-07T03:50:55.455102Z",
     "shell.execute_reply.started": "2024-08-07T03:50:55.361356Z"
    }
   },
   "outputs": [],
   "source": [
    "df_indexes = df_indexes.set_index('date')\n",
    "df_indexes.head()"
   ]
  },
  {
   "cell_type": "code",
   "execution_count": null,
   "metadata": {
    "execution": {
     "iopub.execute_input": "2024-08-07T03:50:55.458032Z",
     "iopub.status.busy": "2024-08-07T03:50:55.457633Z",
     "iopub.status.idle": "2024-08-07T03:58:29.451608Z",
     "shell.execute_reply": "2024-08-07T03:58:29.450586Z",
     "shell.execute_reply.started": "2024-08-07T03:50:55.457996Z"
    }
   },
   "outputs": [],
   "source": [
    "date_range = pd.date_range(start=df_indexes.index.min(), end=df_indexes.index.max(), freq=\"D\")\n",
    "df_indexes_filled = pd.DataFrame(columns=df_indexes.columns)\n",
    "\n",
    "for family in tqdm(family_list):\n",
    "    for store in store_list:\n",
    "        temp_df = df_indexes.iloc[np.where((df_indexes.family == family)&(df_indexes.store_nbr == store))]\n",
    "        temp_df = temp_df.reindex(date_range).fillna({'id': np.nan, 'store_nbr': store, 'family':family, 'sales': np.nan})\n",
    "        df_indexes_filled = pd.concat([df_indexes_filled, temp_df])\n",
    "\n",
    "df_indexes_filled.head()"
   ]
  },
  {
   "cell_type": "code",
   "execution_count": null,
   "metadata": {
    "execution": {
     "iopub.execute_input": "2024-08-07T03:58:29.453322Z",
     "iopub.status.busy": "2024-08-07T03:58:29.453000Z",
     "iopub.status.idle": "2024-08-07T03:58:30.096474Z",
     "shell.execute_reply": "2024-08-07T03:58:30.095431Z",
     "shell.execute_reply.started": "2024-08-07T03:58:29.453295Z"
    }
   },
   "outputs": [],
   "source": [
    "df_indexes_filled.index.name = 'date'\n",
    "df_indexes_filled = df_indexes_filled.reset_index()\n",
    "df_indexes_filled = df_indexes_filled.sort_values(['store_nbr', 'family'])\n",
    "df_indexes_filled.head()"
   ]
  },
  {
   "cell_type": "code",
   "execution_count": null,
   "metadata": {
    "execution": {
     "iopub.execute_input": "2024-08-07T03:58:30.098691Z",
     "iopub.status.busy": "2024-08-07T03:58:30.097976Z",
     "iopub.status.idle": "2024-08-07T03:58:30.290693Z",
     "shell.execute_reply": "2024-08-07T03:58:30.289816Z",
     "shell.execute_reply.started": "2024-08-07T03:58:30.098649Z"
    }
   },
   "outputs": [],
   "source": [
    "last_train_date = pd.to_datetime(df_train.date.max())"
   ]
  },
  {
   "cell_type": "code",
   "execution_count": null,
   "metadata": {
    "execution": {
     "iopub.execute_input": "2024-08-07T03:58:30.292799Z",
     "iopub.status.busy": "2024-08-07T03:58:30.292238Z",
     "iopub.status.idle": "2024-08-07T03:58:30.304934Z",
     "shell.execute_reply": "2024-08-07T03:58:30.303815Z",
     "shell.execute_reply.started": "2024-08-07T03:58:30.292748Z"
    }
   },
   "outputs": [],
   "source": [
    "import gc"
   ]
  },
  {
   "cell_type": "code",
   "execution_count": null,
   "metadata": {
    "execution": {
     "iopub.execute_input": "2024-08-07T03:58:30.307002Z",
     "iopub.status.busy": "2024-08-07T03:58:30.306683Z",
     "iopub.status.idle": "2024-08-07T03:58:31.250987Z",
     "shell.execute_reply": "2024-08-07T03:58:31.249760Z",
     "shell.execute_reply.started": "2024-08-07T03:58:30.306973Z"
    }
   },
   "outputs": [],
   "source": [
    "del(df_train)\n",
    "del(df_test)\n",
    "del(df_stores)\n",
    "del(df_holidays_events)\n",
    "del(df_oil)\n",
    "del(df_transactions)\n",
    "del(df_indexes)\n",
    "del(train_merged)\n",
    "\n",
    "gc.collect()"
   ]
  },
  {
   "cell_type": "markdown",
   "metadata": {},
   "source": [
    "# Model"
   ]
  },
  {
   "cell_type": "code",
   "execution_count": null,
   "metadata": {
    "execution": {
     "iopub.execute_input": "2024-08-07T03:58:31.252927Z",
     "iopub.status.busy": "2024-08-07T03:58:31.252556Z",
     "iopub.status.idle": "2024-08-07T03:58:31.261351Z",
     "shell.execute_reply": "2024-08-07T03:58:31.260284Z",
     "shell.execute_reply.started": "2024-08-07T03:58:31.252896Z"
    }
   },
   "outputs": [],
   "source": [
    "from darts.models import LightGBMModel"
   ]
  },
  {
   "cell_type": "markdown",
   "metadata": {},
   "source": [
    "We will use a general predictions function for blending and stacking."
   ]
  },
  {
   "cell_type": "code",
   "execution_count": null,
   "metadata": {
    "execution": {
     "iopub.execute_input": "2024-08-07T03:58:31.263186Z",
     "iopub.status.busy": "2024-08-07T03:58:31.262862Z",
     "iopub.status.idle": "2024-08-07T03:58:31.282879Z",
     "shell.execute_reply": "2024-08-07T03:58:31.281623Z",
     "shell.execute_reply.started": "2024-08-07T03:58:31.263159Z"
    }
   },
   "outputs": [],
   "source": [
    "'''\n",
    "The function takes two arguments as input:\n",
    "model_params: model hyperparameters, tuning them can improve prediction accuracy.\n",
    "val_df_size: number of days in the validation set. The parameter is needed to determine\n",
    "the size of the validation sample in the stacking. For blending, set the default value to zero.\n",
    "'''\n",
    "\n",
    "def lgbm_predictions(model_params, val_df_size = 0):\n",
    "    l_train_date = last_train_date - np.timedelta64(val_df_size, 'D')\n",
    "    local_df_indexes = df_indexes_filled.iloc[np.where(df_indexes_filled.date > l_train_date)]\n",
    "    \n",
    "    submission_kaggle_list = []    \n",
    "    cnt = 1\n",
    "    \n",
    "    for params in model_params:\n",
    "        LGBM_Models_Submission = {}\n",
    "        display(\"Training...\")\n",
    "            \n",
    "        # Fit Model\n",
    "        print(f'Start fit model {cnt}')\n",
    "        for family in tqdm(family_list):        \n",
    "            sales_family = family_TS_transformed_dict[family]\n",
    "            # training_data: represents the number of sales in the training sample minus the sales for the val\n",
    "            training_data = [ts[:1688-val_df_size] for ts in sales_family]\n",
    "            # TCN_covariates: represents the future covariates associated with the target product family\n",
    "            TCN_covariates = future_covariates_dict[family]\n",
    "            # train_sliced: represents the number of sales associated with the target product family.\n",
    "            # slice_intersect: function that you can see used simply ensures that the components span the same time interval. \n",
    "            # In the case of different time intervals an error message will appear if we try to combine them.\n",
    "            train_sliced = [training_data[i].slice_intersect(TCN_covariates[i]) for i in range(0,len(training_data))]\n",
    "            \n",
    "\n",
    "            LGBM_Model_Submission = LightGBMModel(lags = params[\"lags\"],\n",
    "                                                  lags_future_covariates = params[\"lags_future_covariates\"],\n",
    "                                                  lags_past_covariates = params[\"lags_past_covariates\"],\n",
    "                                                  output_chunk_length=1,\n",
    "                                                  random_state=2022,\n",
    "                                                  gpu_use_dp= \"false\")\n",
    "\n",
    "\n",
    "            LGBM_Model_Submission.fit(series=train_sliced, \n",
    "                                  future_covariates=TCN_covariates,\n",
    "                                  # transactions_transformed: the past covariates do not need to be indexed on the target \n",
    "                                  # family because there is only one global `TimeSeries` per store.\n",
    "                                  past_covariates=transactions_transformed)\n",
    "\n",
    "            LGBM_Models_Submission[family] = LGBM_Model_Submission\n",
    "\n",
    "        display(\"Predictions...\")\n",
    "        LGBM_Forecasts_Families_Submission = {}\n",
    "\n",
    "        # Predict\n",
    "        print(f'Start predict model {cnt}')\n",
    "        for family in tqdm(family_list):\n",
    "            sales_family = family_TS_transformed_dict[family]\n",
    "            training_data = [ts[:1688-val_df_size] for ts in sales_family]\n",
    "            LGBM_covariates = future_covariates_dict[family]\n",
    "            train_sliced = [training_data[i].slice_intersect(TCN_covariates[i]) for i in range(0,len(training_data))]\n",
    "\n",
    "            forecast_LGBM = LGBM_Models_Submission[family].predict(\n",
    "                                                  n= 16 + val_df_size,\n",
    "                                                  series=train_sliced,\n",
    "                                                  future_covariates=LGBM_covariates,\n",
    "                                                  past_covariates=transactions_transformed\n",
    "                                                 )\n",
    "\n",
    "            LGBM_Forecasts_Families_Submission[family] = forecast_LGBM\n",
    "\n",
    "        # Transform Back\n",
    "        print(f'Start transform Back {cnt}')\n",
    "        LGBM_Forecasts_Families_back_Submission = {}\n",
    "\n",
    "        for family in tqdm(family_list):\n",
    "            LGBM_Forecasts_Families_back_Submission[family] = family_pipeline_dict[family].inverse_transform(LGBM_Forecasts_Families_Submission[family], partial=True)\n",
    "\n",
    "        # Prepare Submission in Correct Format\n",
    "        print(f'Start Prepare Submission {cnt}')\n",
    "        for family in tqdm(LGBM_Forecasts_Families_back_Submission):\n",
    "            for n in range(0,len(LGBM_Forecasts_Families_back_Submission[family])):\n",
    "                if (family_TS_dict[family][n].univariate_values()[-21:] == 0).all():\n",
    "                    LGBM_Forecasts_Families_back_Submission[family][n] = LGBM_Forecasts_Families_back_Submission[family][n].map(lambda x: x * 0)\n",
    "\n",
    "        listofseries = []\n",
    "\n",
    "        for store in tqdm(range(0,54)):\n",
    "            for family in family_list:\n",
    "                oneforecast = LGBM_Forecasts_Families_back_Submission[family][store].pd_dataframe()\n",
    "                oneforecast.columns = ['y_pred']\n",
    "                listofseries.append(oneforecast)\n",
    "\n",
    "        df_forecasts = pd.concat(listofseries) \n",
    "        df_forecasts.reset_index(drop=True, inplace=True)\n",
    "\n",
    "        # No Negative Forecasts\n",
    "        print(f'Start No Negative Forecasts {cnt}')\n",
    "        df_forecasts[df_forecasts < 0] = 0\n",
    "        forecasts_kaggle = pd.concat([local_df_indexes['id'], df_forecasts.set_index(local_df_indexes.index)], axis=1)\n",
    "        forecasts_kaggle = forecasts_kaggle.reset_index(drop=True)\n",
    "\n",
    "        # Submission\n",
    "        print(f'Start Submission {cnt}')\n",
    "        submission_kaggle_list.append(forecasts_kaggle)\n",
    "        cnt += 1\n",
    "    \n",
    "    return submission_kaggle_list, local_df_indexes"
   ]
  },
  {
   "cell_type": "markdown",
   "metadata": {},
   "source": [
    "# Blending"
   ]
  },
  {
   "cell_type": "code",
   "execution_count": null,
   "metadata": {
    "execution": {
     "iopub.execute_input": "2024-08-07T03:58:31.285062Z",
     "iopub.status.busy": "2024-08-07T03:58:31.284713Z",
     "iopub.status.idle": "2024-08-07T03:58:31.298090Z",
     "shell.execute_reply": "2024-08-07T03:58:31.296966Z",
     "shell.execute_reply.started": "2024-08-07T03:58:31.285032Z"
    }
   },
   "outputs": [],
   "source": [
    "model_params = [\n",
    "    {\"lags\" : 63, \"lags_future_covariates\" : (14,1), \"lags_past_covariates\" : [-16,-17,-18,-19,-20,-21,-22]},\n",
    "    {\"lags\" : 7, \"lags_future_covariates\" : (16,1), \"lags_past_covariates\" : [-16,-17,-18,-19,-20,-21,-22]},  \n",
    "    {\"lags\" : 31, \"lags_future_covariates\" : (14,1), \"lags_past_covariates\" : [-16,-17,-18,-19,-20,-21,-22]},\n",
    "    {\"lags\" : 365, \"lags_future_covariates\" : (14,1), \"lags_past_covariates\" : [-16,-17,-18,-19,-20,-21,-22]}, \n",
    "    {\"lags\" : 730, \"lags_future_covariates\" : (14,1), \"lags_past_covariates\" : [-16,-17,-18,-19,-20,-21,-22]}, \n",
    "    {\"lags\" : 1095, \"lags_future_covariates\" : (14,1), \"lags_past_covariates\" : [-16,-17,-18,-19,-20,-21,-22]}\n",
    "]"
   ]
  },
  {
   "cell_type": "code",
   "execution_count": null,
   "metadata": {
    "execution": {
     "iopub.execute_input": "2024-08-07T03:58:31.299831Z",
     "iopub.status.busy": "2024-08-07T03:58:31.299461Z",
     "iopub.status.idle": "2024-08-07T06:17:50.001750Z",
     "shell.execute_reply": "2024-08-07T06:17:50.000718Z",
     "shell.execute_reply.started": "2024-08-07T03:58:31.299802Z"
    }
   },
   "outputs": [],
   "source": [
    "submission_kaggle_list, clipped_indexes = lgbm_predictions(model_params)"
   ]
  },
  {
   "cell_type": "markdown",
   "metadata": {},
   "source": [
    "We average the obtained predictions:"
   ]
  },
  {
   "cell_type": "code",
   "execution_count": null,
   "metadata": {
    "execution": {
     "iopub.execute_input": "2024-08-07T06:17:50.004342Z",
     "iopub.status.busy": "2024-08-07T06:17:50.003962Z",
     "iopub.status.idle": "2024-08-07T06:17:50.044057Z",
     "shell.execute_reply": "2024-08-07T06:17:50.042933Z",
     "shell.execute_reply.started": "2024-08-07T06:17:50.004311Z"
    }
   },
   "outputs": [],
   "source": [
    "submissions = submission_kaggle_list[0].copy()\n",
    "submissions = submissions.rename(columns={'y_pred': 'y_pred_0'})\n",
    "\n",
    "if len(submission_kaggle_list) > 1:\n",
    "    for i in range(1, len(submission_kaggle_list)):\n",
    "        y_pred = submission_kaggle_list[i]\n",
    "        y_pred = y_pred.rename(columns={'y_pred': f'y_pred_{i}'})\n",
    "        submissions = pd.concat([submissions, y_pred.drop(['id'], axis=1)], axis=1)\n",
    "\n",
    "submissions['sales'] = submissions.loc[:, submissions.columns!='id'].mean(axis=1)\n",
    "submissions.head()"
   ]
  },
  {
   "cell_type": "code",
   "execution_count": null,
   "metadata": {
    "execution": {
     "iopub.execute_input": "2024-08-07T06:17:50.045760Z",
     "iopub.status.busy": "2024-08-07T06:17:50.045394Z",
     "iopub.status.idle": "2024-08-07T06:17:50.062478Z",
     "shell.execute_reply": "2024-08-07T06:17:50.061388Z",
     "shell.execute_reply.started": "2024-08-07T06:17:50.045729Z"
    }
   },
   "outputs": [],
   "source": [
    "submission = submissions[['id', 'sales']]\n",
    "submission = submission.sort_values('id')\n",
    "submission.id = submission.id.astype('int32')\n",
    "submission.head()"
   ]
  },
  {
   "cell_type": "code",
   "execution_count": null,
   "metadata": {
    "execution": {
     "iopub.execute_input": "2024-08-07T06:17:50.064249Z",
     "iopub.status.busy": "2024-08-07T06:17:50.063924Z",
     "iopub.status.idle": "2024-08-07T06:17:50.137752Z",
     "shell.execute_reply": "2024-08-07T06:17:50.136641Z",
     "shell.execute_reply.started": "2024-08-07T06:17:50.064220Z"
    }
   },
   "outputs": [],
   "source": [
    "submission.to_csv('/kaggle/working/submission.csv', index=False)"
   ]
  }
 ],
 "metadata": {
  "kaggle": {
   "accelerator": "none",
   "dataSources": [
    {
     "databundleVersionId": 2887556,
     "sourceId": 29781,
     "sourceType": "competition"
    }
   ],
   "dockerImageVersionId": 30746,
   "isGpuEnabled": false,
   "isInternetEnabled": true,
   "language": "python",
   "sourceType": "notebook"
  },
  "kernelspec": {
   "display_name": "Python 3 (ipykernel)",
   "language": "python",
   "name": "python3"
  },
  "language_info": {
   "codemirror_mode": {
    "name": "ipython",
    "version": 3
   },
   "file_extension": ".py",
   "mimetype": "text/x-python",
   "name": "python",
   "nbconvert_exporter": "python",
   "pygments_lexer": "ipython3",
   "version": "3.11.9"
  }
 },
 "nbformat": 4,
 "nbformat_minor": 4
}
