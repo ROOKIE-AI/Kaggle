{
 "cells": [
  {
   "cell_type": "markdown",
   "metadata": {},
   "source": [
    "# Store Item Demand Forecasting Challenge"
   ]
  },
  {
   "cell_type": "markdown",
   "metadata": {},
   "source": [
    "# 商店商品需求预测挑战"
   ]
  },
  {
   "cell_type": "markdown",
   "metadata": {},
   "source": [
    "## 描述\n",
    "\n",
    "此竞赛旨在在**相对简单和干净的数据集**上探索不同的时间序列技术。\n",
    "\n",
    "你将获得**5年商店商品销售数据**，并需要预测**10家不同商店中50种不同商品**的**3个月销售额**。\n",
    "\n",
    "主要问题包括：\n",
    "- 应对季节性的最佳方法是什么？\n",
    "- 应该对商店单独建模，还是可以将它们汇集在一起？\n",
    "- 深度学习比传统方法如 ARIMA 效果更好吗？\n",
    "- 它们能否打败 **XGBoost**？\n",
    "\n",
    "这是一场探索不同模型并提高预测技能的精彩比赛。\n",
    "\n",
    "### 评估\n",
    "\n",
    "提交内容将基于**SMAPE（对称平均绝对百分比误差）**在预测值和实际值之间的表现进行评估。当实际值和预测值均为0时，SMAPE被定义为0。\n",
    "\n",
    "### 内核提交\n",
    "\n",
    "您只能直接从**Kaggle Kernels**提交预测结果。通过将团队成员添加为协作者，可以与他们私下共享和编辑代码。\n",
    "\n",
    "### 提交文件格式\n",
    "\n",
    "对于测试集中的每个`id`，需要预测`sales`变量的概率。文件应包含标题，并遵循以下格式：\n",
    "\n",
    "```plaintext\n",
    "id,sales\n",
    "0,35\n",
    "1,22\n",
    "2,5\n",
    "...\n"
   ]
  },
  {
   "cell_type": "markdown",
   "metadata": {},
   "source": [
    "### 数据集描述\n",
    "\n",
    "本次竞赛的目标是预测不同商店位置**3 个月的单品级销售数据**。\n",
    "\n",
    "### 文件描述\n",
    "\n",
    "- `train.csv` - 训练数据\n",
    "- `test.csv` - 测试数据（注意：公有/私有拆分基于时间）\n",
    "- `sample_submission.csv` - 正确格式的示例提交文件\n",
    "\n",
    "### 数据字段\n",
    "\n",
    "- `date` - 销售数据的日期。没有假期影响或商店关闭。\n",
    "- `store` - 商店 ID\n",
    "- `item` - 项目 ID\n",
    "- `sales` - 特定日期在特定商店销售的商品数量。\n"
   ]
  },
  {
   "cell_type": "markdown",
   "metadata": {},
   "source": [
    "## 导入库"
   ]
  },
  {
   "cell_type": "code",
   "execution_count": 3,
   "metadata": {},
   "outputs": [],
   "source": [
    "import os\n",
    "import tqdm\n",
    "import warnings\n",
    "\n",
    "import numpy as np\n",
    "import pandas as pd\n",
    "import matplotlib.pyplot as plt\n",
    "\n",
    "\n",
    "warnings.filterwarnings('ignore')"
   ]
  },
  {
   "cell_type": "markdown",
   "metadata": {},
   "source": [
    "## Data Load"
   ]
  },
  {
   "cell_type": "code",
   "execution_count": null,
   "metadata": {},
   "outputs": [],
   "source": [
    "if not os.path.exists(\"./data\"):\n",
    "    !kaggle competitions download -c store-sales-time-series-forecasting\n",
    "    !mkdir ./data\n",
    "    !unzip *.zip -d ./data/\n",
    "    !rm -rf *.zip"
   ]
  }
 ],
 "metadata": {
  "kernelspec": {
   "display_name": "d2l",
   "language": "python",
   "name": "python3"
  },
  "language_info": {
   "codemirror_mode": {
    "name": "ipython",
    "version": 3
   },
   "file_extension": ".py",
   "mimetype": "text/x-python",
   "name": "python",
   "nbconvert_exporter": "python",
   "pygments_lexer": "ipython3",
   "version": "3.8.19"
  }
 },
 "nbformat": 4,
 "nbformat_minor": 2
}
